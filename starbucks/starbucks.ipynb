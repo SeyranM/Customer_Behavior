{
 "cells": [
  {
   "cell_type": "markdown",
   "metadata": {},
   "source": [
    "# Group Project"
   ]
  },
  {
   "cell_type": "markdown",
   "metadata": {},
   "source": [
    "## Starbucks Survey Analysis"
   ]
  },
  {
   "cell_type": "code",
   "execution_count": 1,
   "metadata": {
    "ExecuteTime": {
     "end_time": "2021-02-26T05:12:52.699316Z",
     "start_time": "2021-02-26T05:12:48.674084Z"
    }
   },
   "outputs": [],
   "source": [
    "# importing packages\n",
    "import pandas as pd\n",
    "import numpy as np\n",
    "import matplotlib.pyplot as plt\n",
    "import seaborn as sns\n",
    "import plotly.express as px\n",
    "%matplotlib inline"
   ]
  },
  {
   "cell_type": "code",
   "execution_count": 2,
   "metadata": {
    "ExecuteTime": {
     "end_time": "2021-02-26T05:12:52.730264Z",
     "start_time": "2021-02-26T05:12:52.701487Z"
    }
   },
   "outputs": [],
   "source": [
    "# importing data\n",
    "df = pd.read_csv(\"Starbucks_satisfactory_survey.csv\")"
   ]
  },
  {
   "cell_type": "code",
   "execution_count": 3,
   "metadata": {
    "ExecuteTime": {
     "end_time": "2021-02-26T05:12:52.745256Z",
     "start_time": "2021-02-26T05:12:52.734528Z"
    }
   },
   "outputs": [],
   "source": [
    "# defining new column names\n",
    "df.columns = ['time', 'gender', 'age', 'employment', 'income', 'visits', 'Here/take', 'duration',\n",
    "              'distance', 'card', 'product_type', 'money', 'ranking_quality',\n",
    "              'ranking_price', 'ranking_discount', 'ranking_ambiance', 'ranking_wifi', 'ranking_service',\n",
    "              \"ranking_meetings\", 'promotion_source', 'buy']"
   ]
  },
  {
   "cell_type": "code",
   "execution_count": 4,
   "metadata": {
    "ExecuteTime": {
     "end_time": "2021-02-26T05:12:52.808026Z",
     "start_time": "2021-02-26T05:12:52.749354Z"
    }
   },
   "outputs": [
    {
     "data": {
      "text/html": [
       "<div>\n",
       "<style scoped>\n",
       "    .dataframe tbody tr th:only-of-type {\n",
       "        vertical-align: middle;\n",
       "    }\n",
       "\n",
       "    .dataframe tbody tr th {\n",
       "        vertical-align: top;\n",
       "    }\n",
       "\n",
       "    .dataframe thead th {\n",
       "        text-align: right;\n",
       "    }\n",
       "</style>\n",
       "<table border=\"1\" class=\"dataframe\">\n",
       "  <thead>\n",
       "    <tr style=\"text-align: right;\">\n",
       "      <th></th>\n",
       "      <th>time</th>\n",
       "      <th>gender</th>\n",
       "      <th>age</th>\n",
       "      <th>employment</th>\n",
       "      <th>income</th>\n",
       "      <th>visits</th>\n",
       "      <th>Here/take</th>\n",
       "      <th>duration</th>\n",
       "      <th>distance</th>\n",
       "      <th>card</th>\n",
       "      <th>...</th>\n",
       "      <th>money</th>\n",
       "      <th>ranking_quality</th>\n",
       "      <th>ranking_price</th>\n",
       "      <th>ranking_discount</th>\n",
       "      <th>ranking_ambiance</th>\n",
       "      <th>ranking_wifi</th>\n",
       "      <th>ranking_service</th>\n",
       "      <th>ranking_meetings</th>\n",
       "      <th>promotion_source</th>\n",
       "      <th>buy</th>\n",
       "    </tr>\n",
       "  </thead>\n",
       "  <tbody>\n",
       "    <tr>\n",
       "      <th>0</th>\n",
       "      <td>2019/10/01 12:38:43 PM GMT+8</td>\n",
       "      <td>Female</td>\n",
       "      <td>From 20 to 29</td>\n",
       "      <td>Student</td>\n",
       "      <td>Less than RM25,000</td>\n",
       "      <td>Rarely</td>\n",
       "      <td>Dine in</td>\n",
       "      <td>Between 30 minutes to 1 hour</td>\n",
       "      <td>within 1km</td>\n",
       "      <td>Yes</td>\n",
       "      <td>...</td>\n",
       "      <td>Less than RM20</td>\n",
       "      <td>4</td>\n",
       "      <td>3</td>\n",
       "      <td>5</td>\n",
       "      <td>5</td>\n",
       "      <td>4</td>\n",
       "      <td>4</td>\n",
       "      <td>3</td>\n",
       "      <td>Starbucks Website/Apps;Social Media;Emails;Dea...</td>\n",
       "      <td>Yes</td>\n",
       "    </tr>\n",
       "    <tr>\n",
       "      <th>1</th>\n",
       "      <td>2019/10/01 12:38:54 PM GMT+8</td>\n",
       "      <td>Female</td>\n",
       "      <td>From 20 to 29</td>\n",
       "      <td>Student</td>\n",
       "      <td>Less than RM25,000</td>\n",
       "      <td>Rarely</td>\n",
       "      <td>Take away</td>\n",
       "      <td>Below 30 minutes</td>\n",
       "      <td>1km - 3km</td>\n",
       "      <td>Yes</td>\n",
       "      <td>...</td>\n",
       "      <td>Less than RM20</td>\n",
       "      <td>4</td>\n",
       "      <td>3</td>\n",
       "      <td>4</td>\n",
       "      <td>4</td>\n",
       "      <td>4</td>\n",
       "      <td>5</td>\n",
       "      <td>2</td>\n",
       "      <td>Social Media;In Store displays</td>\n",
       "      <td>Yes</td>\n",
       "    </tr>\n",
       "    <tr>\n",
       "      <th>2</th>\n",
       "      <td>2019/10/01 12:38:56 PM GMT+8</td>\n",
       "      <td>Male</td>\n",
       "      <td>From 20 to 29</td>\n",
       "      <td>Employed</td>\n",
       "      <td>Less than RM25,000</td>\n",
       "      <td>Monthly</td>\n",
       "      <td>Dine in</td>\n",
       "      <td>Between 30 minutes to 1 hour</td>\n",
       "      <td>more than 3km</td>\n",
       "      <td>Yes</td>\n",
       "      <td>...</td>\n",
       "      <td>Less than RM20</td>\n",
       "      <td>4</td>\n",
       "      <td>3</td>\n",
       "      <td>4</td>\n",
       "      <td>4</td>\n",
       "      <td>4</td>\n",
       "      <td>4</td>\n",
       "      <td>3</td>\n",
       "      <td>In Store displays;Billboards</td>\n",
       "      <td>Yes</td>\n",
       "    </tr>\n",
       "    <tr>\n",
       "      <th>3</th>\n",
       "      <td>2019/10/01 12:39:08 PM GMT+8</td>\n",
       "      <td>Female</td>\n",
       "      <td>From 20 to 29</td>\n",
       "      <td>Student</td>\n",
       "      <td>Less than RM25,000</td>\n",
       "      <td>Rarely</td>\n",
       "      <td>Take away</td>\n",
       "      <td>Below 30 minutes</td>\n",
       "      <td>more than 3km</td>\n",
       "      <td>No</td>\n",
       "      <td>...</td>\n",
       "      <td>Less than RM20</td>\n",
       "      <td>2</td>\n",
       "      <td>1</td>\n",
       "      <td>4</td>\n",
       "      <td>3</td>\n",
       "      <td>3</td>\n",
       "      <td>3</td>\n",
       "      <td>3</td>\n",
       "      <td>Through friends and word of mouth</td>\n",
       "      <td>No</td>\n",
       "    </tr>\n",
       "    <tr>\n",
       "      <th>4</th>\n",
       "      <td>2019/10/01 12:39:20 PM GMT+8</td>\n",
       "      <td>Male</td>\n",
       "      <td>From 20 to 29</td>\n",
       "      <td>Student</td>\n",
       "      <td>Less than RM25,000</td>\n",
       "      <td>Monthly</td>\n",
       "      <td>Take away</td>\n",
       "      <td>Between 30 minutes to 1 hour</td>\n",
       "      <td>1km - 3km</td>\n",
       "      <td>No</td>\n",
       "      <td>...</td>\n",
       "      <td>Around RM20 - RM40</td>\n",
       "      <td>3</td>\n",
       "      <td>3</td>\n",
       "      <td>4</td>\n",
       "      <td>2</td>\n",
       "      <td>2</td>\n",
       "      <td>3</td>\n",
       "      <td>3</td>\n",
       "      <td>Starbucks Website/Apps;Social Media</td>\n",
       "      <td>Yes</td>\n",
       "    </tr>\n",
       "  </tbody>\n",
       "</table>\n",
       "<p>5 rows × 21 columns</p>\n",
       "</div>"
      ],
      "text/plain": [
       "                           time  gender            age employment  \\\n",
       "0  2019/10/01 12:38:43 PM GMT+8  Female  From 20 to 29    Student   \n",
       "1  2019/10/01 12:38:54 PM GMT+8  Female  From 20 to 29    Student   \n",
       "2  2019/10/01 12:38:56 PM GMT+8    Male  From 20 to 29   Employed   \n",
       "3  2019/10/01 12:39:08 PM GMT+8  Female  From 20 to 29    Student   \n",
       "4  2019/10/01 12:39:20 PM GMT+8    Male  From 20 to 29    Student   \n",
       "\n",
       "               income   visits  Here/take                      duration  \\\n",
       "0  Less than RM25,000   Rarely    Dine in  Between 30 minutes to 1 hour   \n",
       "1  Less than RM25,000   Rarely  Take away              Below 30 minutes   \n",
       "2  Less than RM25,000  Monthly    Dine in  Between 30 minutes to 1 hour   \n",
       "3  Less than RM25,000   Rarely  Take away              Below 30 minutes   \n",
       "4  Less than RM25,000  Monthly  Take away  Between 30 minutes to 1 hour   \n",
       "\n",
       "        distance card  ...               money ranking_quality  ranking_price  \\\n",
       "0     within 1km  Yes  ...      Less than RM20               4              3   \n",
       "1      1km - 3km  Yes  ...      Less than RM20               4              3   \n",
       "2  more than 3km  Yes  ...      Less than RM20               4              3   \n",
       "3  more than 3km   No  ...      Less than RM20               2              1   \n",
       "4      1km - 3km   No  ...  Around RM20 - RM40               3              3   \n",
       "\n",
       "   ranking_discount  ranking_ambiance  ranking_wifi  ranking_service  \\\n",
       "0                 5                 5             4                4   \n",
       "1                 4                 4             4                5   \n",
       "2                 4                 4             4                4   \n",
       "3                 4                 3             3                3   \n",
       "4                 4                 2             2                3   \n",
       "\n",
       "   ranking_meetings                                   promotion_source  buy  \n",
       "0                 3  Starbucks Website/Apps;Social Media;Emails;Dea...  Yes  \n",
       "1                 2                     Social Media;In Store displays  Yes  \n",
       "2                 3                       In Store displays;Billboards  Yes  \n",
       "3                 3                  Through friends and word of mouth   No  \n",
       "4                 3                Starbucks Website/Apps;Social Media  Yes  \n",
       "\n",
       "[5 rows x 21 columns]"
      ]
     },
     "execution_count": 4,
     "metadata": {},
     "output_type": "execute_result"
    }
   ],
   "source": [
    "df.head()"
   ]
  },
  {
   "cell_type": "code",
   "execution_count": 5,
   "metadata": {
    "ExecuteTime": {
     "end_time": "2021-02-26T05:12:52.838627Z",
     "start_time": "2021-02-26T05:12:52.811019Z"
    }
   },
   "outputs": [
    {
     "name": "stdout",
     "output_type": "stream",
     "text": [
      "<class 'pandas.core.frame.DataFrame'>\n",
      "RangeIndex: 122 entries, 0 to 121\n",
      "Data columns (total 21 columns):\n",
      " #   Column            Non-Null Count  Dtype \n",
      "---  ------            --------------  ----- \n",
      " 0   time              122 non-null    object\n",
      " 1   gender            122 non-null    object\n",
      " 2   age               122 non-null    object\n",
      " 3   employment        122 non-null    object\n",
      " 4   income            122 non-null    object\n",
      " 5   visits            122 non-null    object\n",
      " 6   Here/take         121 non-null    object\n",
      " 7   duration          122 non-null    object\n",
      " 8   distance          122 non-null    object\n",
      " 9   card              122 non-null    object\n",
      " 10  product_type      122 non-null    object\n",
      " 11  money             122 non-null    object\n",
      " 12  ranking_quality   122 non-null    int64 \n",
      " 13  ranking_price     122 non-null    int64 \n",
      " 14  ranking_discount  122 non-null    int64 \n",
      " 15  ranking_ambiance  122 non-null    int64 \n",
      " 16  ranking_wifi      122 non-null    int64 \n",
      " 17  ranking_service   122 non-null    int64 \n",
      " 18  ranking_meetings  122 non-null    int64 \n",
      " 19  promotion_source  121 non-null    object\n",
      " 20  buy               122 non-null    object\n",
      "dtypes: int64(7), object(14)\n",
      "memory usage: 20.1+ KB\n"
     ]
    }
   ],
   "source": [
    "df.info()"
   ]
  },
  {
   "cell_type": "code",
   "execution_count": 6,
   "metadata": {
    "ExecuteTime": {
     "end_time": "2021-02-26T05:12:52.868863Z",
     "start_time": "2021-02-26T05:12:52.842933Z"
    }
   },
   "outputs": [
    {
     "data": {
      "text/plain": [
       "0      False\n",
       "1      False\n",
       "2      False\n",
       "3      False\n",
       "4      False\n",
       "       ...  \n",
       "117    False\n",
       "118    False\n",
       "119    False\n",
       "120    False\n",
       "121    False\n",
       "Length: 122, dtype: bool"
      ]
     },
     "execution_count": 6,
     "metadata": {},
     "output_type": "execute_result"
    }
   ],
   "source": [
    "df.duplicated()"
   ]
  },
  {
   "cell_type": "code",
   "execution_count": 7,
   "metadata": {
    "ExecuteTime": {
     "end_time": "2021-02-26T05:12:52.914741Z",
     "start_time": "2021-02-26T05:12:52.871856Z"
    }
   },
   "outputs": [],
   "source": [
    "df[df.select_dtypes(['object']).columns] =\\\n",
    "    df.select_dtypes(['object']).apply(lambda x: x.astype('category'))"
   ]
  },
  {
   "cell_type": "code",
   "execution_count": 8,
   "metadata": {
    "ExecuteTime": {
     "end_time": "2021-02-26T05:12:52.930700Z",
     "start_time": "2021-02-26T05:12:52.919135Z"
    }
   },
   "outputs": [],
   "source": [
    "df.drop(columns='time', inplace=True)"
   ]
  },
  {
   "cell_type": "code",
   "execution_count": 9,
   "metadata": {
    "ExecuteTime": {
     "end_time": "2021-02-26T05:12:52.961617Z",
     "start_time": "2021-02-26T05:12:52.935686Z"
    }
   },
   "outputs": [
    {
     "data": {
      "text/plain": [
       "gender              0\n",
       "age                 0\n",
       "employment          0\n",
       "income              0\n",
       "visits              0\n",
       "Here/take           1\n",
       "duration            0\n",
       "distance            0\n",
       "card                0\n",
       "product_type        0\n",
       "money               0\n",
       "ranking_quality     0\n",
       "ranking_price       0\n",
       "ranking_discount    0\n",
       "ranking_ambiance    0\n",
       "ranking_wifi        0\n",
       "ranking_service     0\n",
       "ranking_meetings    0\n",
       "promotion_source    1\n",
       "buy                 0\n",
       "dtype: int64"
      ]
     },
     "execution_count": 9,
     "metadata": {},
     "output_type": "execute_result"
    }
   ],
   "source": [
    "df.isnull().sum()"
   ]
  },
  {
   "cell_type": "code",
   "execution_count": 10,
   "metadata": {
    "ExecuteTime": {
     "end_time": "2021-02-26T05:12:53.008489Z",
     "start_time": "2021-02-26T05:12:52.965605Z"
    }
   },
   "outputs": [],
   "source": [
    "df.dropna(inplace=True)"
   ]
  },
  {
   "cell_type": "code",
   "execution_count": 65,
   "metadata": {
    "ExecuteTime": {
     "end_time": "2021-02-26T05:12:53.040462Z",
     "start_time": "2021-02-26T05:12:53.011482Z"
    }
   },
   "outputs": [],
   "source": [
    "# Age column.\n",
    "old_values = df.age.unique()\n",
    "new_values = [\"20-29\", \"30-39\", \">40\", \"<20\"]\n",
    "for i in range(len(new_values)):\n",
    "    df.age = df.age.replace([old_values[i]], new_values[i])\n",
    "\n",
    "# Income column.\n",
    "old_values = df.income.unique()\n",
    "new_values = [\"<25,000\", \"50,000-100,000\", \"25,000-50,000\", \"100,000-150,000\", \">150,000\"]\n",
    "for i in range(len(new_values)):\n",
    "    df.income = df.income.replace([old_values[i]], new_values[i])\n",
    "# Duration column.\n",
    "old_values = df.duration.unique()\n",
    "new_values = [\"30m-1h\", \"<30m\", \">3h\", \"1-2h\", \"2-3h\"]\n",
    "for i in range(len(new_values)):\n",
    "    df.duration = df.duration.replace([old_values[i]], new_values[i])\n",
    "# Distance column.\n",
    "old_values = df.distance.unique()\n",
    "new_values = [\"<1km\", \"1-3km\", \">3km\"]\n",
    "for i in range(len(new_values)):\n",
    "    df.distance = df.distance.replace([old_values[i]], new_values[i])\n",
    "# Money column.\n",
    "old_values = df.money.unique()\n",
    "new_values = [\"<20\", \"20-40\", \"<40\", \"0\"]\n",
    "for i in range(len(new_values)):\n",
    "    df.money = df.money.replace([old_values[i]], new_values[i])"
   ]
  },
  {
   "cell_type": "markdown",
   "metadata": {},
   "source": [
    "## Exploratory Data Analysis"
   ]
  },
  {
   "cell_type": "code",
   "execution_count": 66,
   "metadata": {
    "ExecuteTime": {
     "end_time": "2021-02-26T05:12:53.102291Z",
     "start_time": "2021-02-26T05:12:53.043662Z"
    }
   },
   "outputs": [
    {
     "data": {
      "text/html": [
       "<div>\n",
       "<style scoped>\n",
       "    .dataframe tbody tr th:only-of-type {\n",
       "        vertical-align: middle;\n",
       "    }\n",
       "\n",
       "    .dataframe tbody tr th {\n",
       "        vertical-align: top;\n",
       "    }\n",
       "\n",
       "    .dataframe thead th {\n",
       "        text-align: right;\n",
       "    }\n",
       "</style>\n",
       "<table border=\"1\" class=\"dataframe\">\n",
       "  <thead>\n",
       "    <tr style=\"text-align: right;\">\n",
       "      <th></th>\n",
       "      <th>gender</th>\n",
       "      <th>age</th>\n",
       "      <th>employment</th>\n",
       "      <th>income</th>\n",
       "      <th>visits</th>\n",
       "      <th>Here/take</th>\n",
       "      <th>duration</th>\n",
       "      <th>distance</th>\n",
       "      <th>card</th>\n",
       "      <th>product_type</th>\n",
       "      <th>money</th>\n",
       "      <th>ranking_quality</th>\n",
       "      <th>ranking_price</th>\n",
       "      <th>ranking_discount</th>\n",
       "      <th>ranking_ambiance</th>\n",
       "      <th>ranking_wifi</th>\n",
       "      <th>ranking_service</th>\n",
       "      <th>ranking_meetings</th>\n",
       "      <th>promotion_source</th>\n",
       "      <th>buy</th>\n",
       "    </tr>\n",
       "  </thead>\n",
       "  <tbody>\n",
       "    <tr>\n",
       "      <th>0</th>\n",
       "      <td>Female</td>\n",
       "      <td>20-29</td>\n",
       "      <td>Student</td>\n",
       "      <td>&lt;25,000</td>\n",
       "      <td>Rarely</td>\n",
       "      <td>Dine in</td>\n",
       "      <td>30m-1h</td>\n",
       "      <td>&lt;1km</td>\n",
       "      <td>Yes</td>\n",
       "      <td>Coffee</td>\n",
       "      <td>&lt;20</td>\n",
       "      <td>4</td>\n",
       "      <td>3</td>\n",
       "      <td>5</td>\n",
       "      <td>5</td>\n",
       "      <td>4</td>\n",
       "      <td>4</td>\n",
       "      <td>3</td>\n",
       "      <td>Starbucks Website/Apps;Social Media;Emails;Dea...</td>\n",
       "      <td>Yes</td>\n",
       "    </tr>\n",
       "    <tr>\n",
       "      <th>1</th>\n",
       "      <td>Female</td>\n",
       "      <td>20-29</td>\n",
       "      <td>Student</td>\n",
       "      <td>&lt;25,000</td>\n",
       "      <td>Rarely</td>\n",
       "      <td>Take away</td>\n",
       "      <td>&lt;30m</td>\n",
       "      <td>1-3km</td>\n",
       "      <td>Yes</td>\n",
       "      <td>Cold drinks;Pastries</td>\n",
       "      <td>&lt;20</td>\n",
       "      <td>4</td>\n",
       "      <td>3</td>\n",
       "      <td>4</td>\n",
       "      <td>4</td>\n",
       "      <td>4</td>\n",
       "      <td>5</td>\n",
       "      <td>2</td>\n",
       "      <td>Social Media;In Store displays</td>\n",
       "      <td>Yes</td>\n",
       "    </tr>\n",
       "    <tr>\n",
       "      <th>2</th>\n",
       "      <td>Male</td>\n",
       "      <td>20-29</td>\n",
       "      <td>Employed</td>\n",
       "      <td>&lt;25,000</td>\n",
       "      <td>Monthly</td>\n",
       "      <td>Dine in</td>\n",
       "      <td>30m-1h</td>\n",
       "      <td>&gt;3km</td>\n",
       "      <td>Yes</td>\n",
       "      <td>Coffee</td>\n",
       "      <td>&lt;20</td>\n",
       "      <td>4</td>\n",
       "      <td>3</td>\n",
       "      <td>4</td>\n",
       "      <td>4</td>\n",
       "      <td>4</td>\n",
       "      <td>4</td>\n",
       "      <td>3</td>\n",
       "      <td>In Store displays;Billboards</td>\n",
       "      <td>Yes</td>\n",
       "    </tr>\n",
       "    <tr>\n",
       "      <th>3</th>\n",
       "      <td>Female</td>\n",
       "      <td>20-29</td>\n",
       "      <td>Student</td>\n",
       "      <td>&lt;25,000</td>\n",
       "      <td>Rarely</td>\n",
       "      <td>Take away</td>\n",
       "      <td>&lt;30m</td>\n",
       "      <td>&gt;3km</td>\n",
       "      <td>No</td>\n",
       "      <td>Coffee</td>\n",
       "      <td>&lt;20</td>\n",
       "      <td>2</td>\n",
       "      <td>1</td>\n",
       "      <td>4</td>\n",
       "      <td>3</td>\n",
       "      <td>3</td>\n",
       "      <td>3</td>\n",
       "      <td>3</td>\n",
       "      <td>Through friends and word of mouth</td>\n",
       "      <td>No</td>\n",
       "    </tr>\n",
       "    <tr>\n",
       "      <th>4</th>\n",
       "      <td>Male</td>\n",
       "      <td>20-29</td>\n",
       "      <td>Student</td>\n",
       "      <td>&lt;25,000</td>\n",
       "      <td>Monthly</td>\n",
       "      <td>Take away</td>\n",
       "      <td>30m-1h</td>\n",
       "      <td>1-3km</td>\n",
       "      <td>No</td>\n",
       "      <td>Coffee;Sandwiches</td>\n",
       "      <td>20-40</td>\n",
       "      <td>3</td>\n",
       "      <td>3</td>\n",
       "      <td>4</td>\n",
       "      <td>2</td>\n",
       "      <td>2</td>\n",
       "      <td>3</td>\n",
       "      <td>3</td>\n",
       "      <td>Starbucks Website/Apps;Social Media</td>\n",
       "      <td>Yes</td>\n",
       "    </tr>\n",
       "  </tbody>\n",
       "</table>\n",
       "</div>"
      ],
      "text/plain": [
       "   gender    age employment   income   visits  Here/take duration distance  \\\n",
       "0  Female  20-29    Student  <25,000   Rarely    Dine in   30m-1h     <1km   \n",
       "1  Female  20-29    Student  <25,000   Rarely  Take away     <30m    1-3km   \n",
       "2    Male  20-29   Employed  <25,000  Monthly    Dine in   30m-1h     >3km   \n",
       "3  Female  20-29    Student  <25,000   Rarely  Take away     <30m     >3km   \n",
       "4    Male  20-29    Student  <25,000  Monthly  Take away   30m-1h    1-3km   \n",
       "\n",
       "  card          product_type  money  ranking_quality  ranking_price  \\\n",
       "0  Yes                Coffee    <20                4              3   \n",
       "1  Yes  Cold drinks;Pastries    <20                4              3   \n",
       "2  Yes                Coffee    <20                4              3   \n",
       "3   No                Coffee    <20                2              1   \n",
       "4   No     Coffee;Sandwiches  20-40                3              3   \n",
       "\n",
       "   ranking_discount  ranking_ambiance  ranking_wifi  ranking_service  \\\n",
       "0                 5                 5             4                4   \n",
       "1                 4                 4             4                5   \n",
       "2                 4                 4             4                4   \n",
       "3                 4                 3             3                3   \n",
       "4                 4                 2             2                3   \n",
       "\n",
       "   ranking_meetings                                   promotion_source  buy  \n",
       "0                 3  Starbucks Website/Apps;Social Media;Emails;Dea...  Yes  \n",
       "1                 2                     Social Media;In Store displays  Yes  \n",
       "2                 3                       In Store displays;Billboards  Yes  \n",
       "3                 3                  Through friends and word of mouth   No  \n",
       "4                 3                Starbucks Website/Apps;Social Media  Yes  "
      ]
     },
     "execution_count": 66,
     "metadata": {},
     "output_type": "execute_result"
    }
   ],
   "source": [
    "df.head()"
   ]
  },
  {
   "cell_type": "code",
   "execution_count": 67,
   "metadata": {
    "ExecuteTime": {
     "end_time": "2021-02-26T05:12:53.132596Z",
     "start_time": "2021-02-26T05:12:53.106230Z"
    }
   },
   "outputs": [
    {
     "data": {
      "text/plain": [
       "gender  employment     visits \n",
       "Female  Employed       Rarely     21\n",
       "                       Monthly     7\n",
       "                       Weekly      3\n",
       "                       Never       2\n",
       "        Housewife      Monthly     1\n",
       "                       Rarely      1\n",
       "        Self-employed  Rarely      4\n",
       "                       Monthly     1\n",
       "                       Never       1\n",
       "        Student        Rarely     19\n",
       "                       Never       3\n",
       "                       Monthly     1\n",
       "                       Weekly      1\n",
       "Male    Employed       Rarely     15\n",
       "                       Monthly     9\n",
       "                       Weekly      3\n",
       "        Self-employed  Rarely      5\n",
       "                       Monthly     3\n",
       "                       Weekly      2\n",
       "                       Daily       1\n",
       "        Student        Rarely     11\n",
       "                       Monthly     4\n",
       "                       Never       2\n",
       "                       Daily       1\n",
       "Name: visits, dtype: int64"
      ]
     },
     "execution_count": 67,
     "metadata": {},
     "output_type": "execute_result"
    }
   ],
   "source": [
    "df.groupby([\"gender\", \"employment\"])['visits'].value_counts()"
   ]
  },
  {
   "cell_type": "code",
   "execution_count": 68,
   "metadata": {
    "ExecuteTime": {
     "end_time": "2021-02-26T05:12:53.164075Z",
     "start_time": "2021-02-26T05:12:53.136149Z"
    }
   },
   "outputs": [
    {
     "data": {
      "text/plain": [
       "gender  money\n",
       "Female  <20      34\n",
       "        20-40    22\n",
       "        0         7\n",
       "        <40       2\n",
       "Male    <20      24\n",
       "        20-40    23\n",
       "        <40       5\n",
       "        0         4\n",
       "Name: money, dtype: int64"
      ]
     },
     "execution_count": 68,
     "metadata": {},
     "output_type": "execute_result"
    }
   ],
   "source": [
    "df.groupby('gender')['money'].value_counts()"
   ]
  },
  {
   "cell_type": "markdown",
   "metadata": {
    "ExecuteTime": {
     "end_time": "2021-02-24T17:25:44.909733Z",
     "start_time": "2021-02-24T17:25:44.810103Z"
    }
   },
   "source": [
    "## Data Visualization"
   ]
  },
  {
   "cell_type": "code",
   "execution_count": 69,
   "metadata": {
    "ExecuteTime": {
     "end_time": "2021-02-26T05:12:53.495188Z",
     "start_time": "2021-02-26T05:12:53.168065Z"
    }
   },
   "outputs": [
    {
     "data": {
      "image/png": "[encoded data removed]",
      "text/plain": [
       "<Figure size 720x576 with 1 Axes>"
      ]
     },
     "metadata": {},
     "output_type": "display_data"
    }
   ],
   "source": [
    "explode = (0, 0.1, 0.2, 0.2)\n",
    "pie, ax = plt.subplots(figsize=[10, 8])\n",
    "counts = df['age'].value_counts()\n",
    "sizes = counts.values.tolist()\n",
    "plt.pie(sizes, labels=counts.index, explode=explode,\n",
    "        counterclock=False, autopct='%1.1f%%')\n",
    "plt.show()"
   ]
  },
  {
   "cell_type": "markdown",
   "metadata": {},
   "source": [
    "As we can see the age of the respondents is not uniformly distributed."
   ]
  },
  {
   "cell_type": "code",
   "execution_count": 70,
   "metadata": {
    "ExecuteTime": {
     "end_time": "2021-02-26T05:12:53.866282Z",
     "start_time": "2021-02-26T05:12:53.498180Z"
    }
   },
   "outputs": [
    {
     "data": {
      "image/png": "[encoded data removed]",
      "text/plain": [
       "<Figure size 1440x720 with 1 Axes>"
      ]
     },
     "metadata": {},
     "output_type": "display_data"
    }
   ],
   "source": [
    "plt.figure(figsize=(20, 10))\n",
    "plt.title(\"Income\", size=30)\n",
    "ax = df[\"income\"].value_counts().plot.barh()\n",
    "totals = []\n",
    "for i in ax.patches:\n",
    "    totals.append(i.get_width())\n",
    "total = sum(totals)\n",
    "for i in ax.patches:\n",
    "    ax.text(i.get_width()+.3, i.get_y()+.38,\n",
    "            str(round((i.get_width()/total)*100, 2))+'%', fontsize=20)"
   ]
  },
  {
   "cell_type": "code",
   "execution_count": 71,
   "metadata": {
    "ExecuteTime": {
     "end_time": "2021-02-26T05:12:53.882152Z",
     "start_time": "2021-02-26T05:12:53.868192Z"
    }
   },
   "outputs": [],
   "source": [
    "direction = df.columns[11:18].values"
   ]
  },
  {
   "cell_type": "code",
   "execution_count": 72,
   "metadata": {
    "ExecuteTime": {
     "end_time": "2021-02-26T05:12:53.914108Z",
     "start_time": "2021-02-26T05:12:53.885146Z"
    }
   },
   "outputs": [],
   "source": [
    "mean_yes = np.mean(df[df['buy'] == \"Yes\"][direction]).values\n",
    "mean_no = np.mean(df[df['buy'] == \"No\"][direction]).values"
   ]
  },
  {
   "cell_type": "code",
   "execution_count": 73,
   "metadata": {
    "ExecuteTime": {
     "end_time": "2021-02-26T05:12:53.930064Z",
     "start_time": "2021-02-26T05:12:53.918547Z"
    }
   },
   "outputs": [],
   "source": [
    "new_df = pd.DataFrame({\"Ranking\": direction, \"Yes\": mean_yes, \"No\": mean_no})"
   ]
  },
  {
   "cell_type": "code",
   "execution_count": 74,
   "metadata": {
    "ExecuteTime": {
     "end_time": "2021-02-26T05:12:53.960983Z",
     "start_time": "2021-02-26T05:12:53.934015Z"
    }
   },
   "outputs": [],
   "source": [
    "new_df = pd.melt(new_df, id_vars=[\"Ranking\"],\n",
    "                 var_name=\"buy\", value_name=\"values\")"
   ]
  },
  {
   "cell_type": "code",
   "execution_count": 75,
   "metadata": {
    "ExecuteTime": {
     "end_time": "2021-02-26T05:12:57.800799Z",
     "start_time": "2021-02-26T05:12:53.966266Z"
    }
   },
   "outputs": [
    {
     "data": {
      "application/vnd.plotly.v1+json": {
       "config": {
        "plotlyServerURL": "https://plot.ly"
       },
       "data": [
        {
         "hovertemplate": "buy=Yes<br>values=%{r}<br>Ranking=%{theta}<extra></extra>",
         "legendgroup": "Yes",
         "line": {
          "color": "#636efa",
          "dash": "solid"
         },
         "mode": "lines",
         "name": "Yes",
         "r": [
          3.872340425531915,
          3.1595744680851063,
          3.8617021276595747,
          3.9148936170212765,
          3.3404255319148937,
          3.8404255319148937,
          3.723404255319149,
          3.872340425531915
         ],
         "showlegend": true,
         "subplot": "polar",
         "theta": [
          "ranking_quality",
          "ranking_price",
          "ranking_discount",
          "ranking_ambiance",
          "ranking_wifi",
          "ranking_service",
          "ranking_meetings",
          "ranking_quality"
         ],
         "type": "scatterpolar"
        },
        {
         "hovertemplate": "buy=No<br>values=%{r}<br>Ranking=%{theta}<extra></extra>",
         "legendgroup": "No",
         "line": {
          "color": "#EF553B",
          "dash": "solid"
         },
         "mode": "lines",
         "name": "No",
         "r": [
          3.037037037037037,
          2.037037037037037,
          3.6666666666666665,
          3.2222222222222223,
          2.962962962962963,
          3.4444444444444446,
          2.814814814814815,
          3.037037037037037
         ],
         "showlegend": true,
         "subplot": "polar",
         "theta": [
          "ranking_quality",
          "ranking_price",
          "ranking_discount",
          "ranking_ambiance",
          "ranking_wifi",
          "ranking_service",
          "ranking_meetings",
          "ranking_quality"
         ],
         "type": "scatterpolar"
        }
       ],
       "layout": {
        "legend": {
         "title": {
          "text": "buy"
         },
         "tracegroupgap": 0
        },
        "margin": {
         "t": 60
        },
        "polar": {
         "angularaxis": {
          "direction": "clockwise",
          "rotation": 90
         },
         "domain": {
          "x": [
           0,
           1
          ],
          "y": [
           0,
           1
          ]
         },
         "radialaxis": {
          "range": [
           0,
           5
          ]
         }
        },
        "template": {
         "data": {
          "bar": [
           {
            "error_x": {
             "color": "#2a3f5f"
            },
            "error_y": {
             "color": "#2a3f5f"
            },
            "marker": {
             "line": {
              "color": "#E5ECF6",
              "width": 0.5
             }
            },
            "type": "bar"
           }
          ],
          "barpolar": [
           {
            "marker": {
             "line": {
              "color": "#E5ECF6",
              "width": 0.5
             }
            },
            "type": "barpolar"
           }
          ],
          "carpet": [
           {
            "aaxis": {
             "endlinecolor": "#2a3f5f",
             "gridcolor": "white",
             "linecolor": "white",
             "minorgridcolor": "white",
             "startlinecolor": "#2a3f5f"
            },
            "baxis": {
             "endlinecolor": "#2a3f5f",
             "gridcolor": "white",
             "linecolor": "white",
             "minorgridcolor": "white",
             "startlinecolor": "#2a3f5f"
            },
            "type": "carpet"
           }
          ],
          "choropleth": [
           {
            "colorbar": {
             "outlinewidth": 0,
             "ticks": ""
            },
            "type": "choropleth"
           }
          ],
          "contour": [
           {
            "colorbar": {
             "outlinewidth": 0,
             "ticks": ""
            },
            "colorscale": [
             [
              0,
              "#0d0887"
             ],
             [
              0.1111111111111111,
              "#46039f"
             ],
             [
              0.2222222222222222,
              "#7201a8"
             ],
             [
              0.3333333333333333,
              "#9c179e"
             ],
             [
              0.4444444444444444,
              "#bd3786"
             ],
             [
              0.5555555555555556,
              "#d8576b"
             ],
             [
              0.6666666666666666,
              "#ed7953"
             ],
             [
              0.7777777777777778,
              "#fb9f3a"
             ],
             [
              0.8888888888888888,
              "#fdca26"
             ],
             [
              1,
              "#f0f921"
             ]
            ],
            "type": "contour"
           }
          ],
          "contourcarpet": [
           {
            "colorbar": {
             "outlinewidth": 0,
             "ticks": ""
            },
            "type": "contourcarpet"
           }
          ],
          "heatmap": [
           {
            "colorbar": {
             "outlinewidth": 0,
             "ticks": ""
            },
            "colorscale": [
             [
              0,
              "#0d0887"
             ],
             [
              0.1111111111111111,
              "#46039f"
             ],
             [
              0.2222222222222222,
              "#7201a8"
             ],
             [
              0.3333333333333333,
              "#9c179e"
             ],
             [
              0.4444444444444444,
              "#bd3786"
             ],
             [
              0.5555555555555556,
              "#d8576b"
             ],
             [
              0.6666666666666666,
              "#ed7953"
             ],
             [
              0.7777777777777778,
              "#fb9f3a"
             ],
             [
              0.8888888888888888,
              "#fdca26"
             ],
             [
              1,
              "#f0f921"
             ]
            ],
            "type": "heatmap"
           }
          ],
          "heatmapgl": [
           {
            "colorbar": {
             "outlinewidth": 0,
             "ticks": ""
            },
            "colorscale": [
             [
              0,
              "#0d0887"
             ],
             [
              0.1111111111111111,
              "#46039f"
             ],
             [
              0.2222222222222222,
              "#7201a8"
             ],
             [
              0.3333333333333333,
              "#9c179e"
             ],
             [
              0.4444444444444444,
              "#bd3786"
             ],
             [
              0.5555555555555556,
              "#d8576b"
             ],
             [
              0.6666666666666666,
              "#ed7953"
             ],
             [
              0.7777777777777778,
              "#fb9f3a"
             ],
             [
              0.8888888888888888,
              "#fdca26"
             ],
             [
              1,
              "#f0f921"
             ]
            ],
            "type": "heatmapgl"
           }
          ],
          "histogram": [
           {
            "marker": {
             "colorbar": {
              "outlinewidth": 0,
              "ticks": ""
             }
            },
            "type": "histogram"
           }
          ],
          "histogram2d": [
           {
            "colorbar": {
             "outlinewidth": 0,
             "ticks": ""
            },
            "colorscale": [
             [
              0,
              "#0d0887"
             ],
             [
              0.1111111111111111,
              "#46039f"
             ],
             [
              0.2222222222222222,
              "#7201a8"
             ],
             [
              0.3333333333333333,
              "#9c179e"
             ],
             [
              0.4444444444444444,
              "#bd3786"
             ],
             [
              0.5555555555555556,
              "#d8576b"
             ],
             [
              0.6666666666666666,
              "#ed7953"
             ],
             [
              0.7777777777777778,
              "#fb9f3a"
             ],
             [
              0.8888888888888888,
              "#fdca26"
             ],
             [
              1,
              "#f0f921"
             ]
            ],
            "type": "histogram2d"
           }
          ],
          "histogram2dcontour": [
           {
            "colorbar": {
             "outlinewidth": 0,
             "ticks": ""
            },
            "colorscale": [
             [
              0,
              "#0d0887"
             ],
             [
              0.1111111111111111,
              "#46039f"
             ],
             [
              0.2222222222222222,
              "#7201a8"
             ],
             [
              0.3333333333333333,
              "#9c179e"
             ],
             [
              0.4444444444444444,
              "#bd3786"
             ],
             [
              0.5555555555555556,
              "#d8576b"
             ],
             [
              0.6666666666666666,
              "#ed7953"
             ],
             [
              0.7777777777777778,
              "#fb9f3a"
             ],
             [
              0.8888888888888888,
              "#fdca26"
             ],
             [
              1,
              "#f0f921"
             ]
            ],
            "type": "histogram2dcontour"
           }
          ],
          "mesh3d": [
           {
            "colorbar": {
             "outlinewidth": 0,
             "ticks": ""
            },
            "type": "mesh3d"
           }
          ],
          "parcoords": [
           {
            "line": {
             "colorbar": {
              "outlinewidth": 0,
              "ticks": ""
             }
            },
            "type": "parcoords"
           }
          ],
          "pie": [
           {
            "automargin": true,
            "type": "pie"
           }
          ],
          "scatter": [
           {
            "marker": {
             "colorbar": {
              "outlinewidth": 0,
              "ticks": ""
             }
            },
            "type": "scatter"
           }
          ],
          "scatter3d": [
           {
            "line": {
             "colorbar": {
              "outlinewidth": 0,
              "ticks": ""
             }
            },
            "marker": {
             "colorbar": {
              "outlinewidth": 0,
              "ticks": ""
             }
            },
            "type": "scatter3d"
           }
          ],
          "scattercarpet": [
           {
            "marker": {
             "colorbar": {
              "outlinewidth": 0,
              "ticks": ""
             }
            },
            "type": "scattercarpet"
           }
          ],
          "scattergeo": [
           {
            "marker": {
             "colorbar": {
              "outlinewidth": 0,
              "ticks": ""
             }
            },
            "type": "scattergeo"
           }
          ],
          "scattergl": [
           {
            "marker": {
             "colorbar": {
              "outlinewidth": 0,
              "ticks": ""
             }
            },
            "type": "scattergl"
           }
          ],
          "scattermapbox": [
           {
            "marker": {
             "colorbar": {
              "outlinewidth": 0,
              "ticks": ""
             }
            },
            "type": "scattermapbox"
           }
          ],
          "scatterpolar": [
           {
            "marker": {
             "colorbar": {
              "outlinewidth": 0,
              "ticks": ""
             }
            },
            "type": "scatterpolar"
           }
          ],
          "scatterpolargl": [
           {
            "marker": {
             "colorbar": {
              "outlinewidth": 0,
              "ticks": ""
             }
            },
            "type": "scatterpolargl"
           }
          ],
          "scatterternary": [
           {
            "marker": {
             "colorbar": {
              "outlinewidth": 0,
              "ticks": ""
             }
            },
            "type": "scatterternary"
           }
          ],
          "surface": [
           {
            "colorbar": {
             "outlinewidth": 0,
             "ticks": ""
            },
            "colorscale": [
             [
              0,
              "#0d0887"
             ],
             [
              0.1111111111111111,
              "#46039f"
             ],
             [
              0.2222222222222222,
              "#7201a8"
             ],
             [
              0.3333333333333333,
              "#9c179e"
             ],
             [
              0.4444444444444444,
              "#bd3786"
             ],
             [
              0.5555555555555556,
              "#d8576b"
             ],
             [
              0.6666666666666666,
              "#ed7953"
             ],
             [
              0.7777777777777778,
              "#fb9f3a"
             ],
             [
              0.8888888888888888,
              "#fdca26"
             ],
             [
              1,
              "#f0f921"
             ]
            ],
            "type": "surface"
           }
          ],
          "table": [
           {
            "cells": {
             "fill": {
              "color": "#EBF0F8"
             },
             "line": {
              "color": "white"
             }
            },
            "header": {
             "fill": {
              "color": "#C8D4E3"
             },
             "line": {
              "color": "white"
             }
            },
            "type": "table"
           }
          ]
         },
         "layout": {
          "annotationdefaults": {
           "arrowcolor": "#2a3f5f",
           "arrowhead": 0,
           "arrowwidth": 1
          },
          "autotypenumbers": "strict",
          "coloraxis": {
           "colorbar": {
            "outlinewidth": 0,
            "ticks": ""
           }
          },
          "colorscale": {
           "diverging": [
            [
             0,
             "#8e0152"
            ],
            [
             0.1,
             "#c51b7d"
            ],
            [
             0.2,
             "#de77ae"
            ],
            [
             0.3,
             "#f1b6da"
            ],
            [
             0.4,
             "#fde0ef"
            ],
            [
             0.5,
             "#f7f7f7"
            ],
            [
             0.6,
             "#e6f5d0"
            ],
            [
             0.7,
             "#b8e186"
            ],
            [
             0.8,
             "#7fbc41"
            ],
            [
             0.9,
             "#4d9221"
            ],
            [
             1,
             "#276419"
            ]
           ],
           "sequential": [
            [
             0,
             "#0d0887"
            ],
            [
             0.1111111111111111,
             "#46039f"
            ],
            [
             0.2222222222222222,
             "#7201a8"
            ],
            [
             0.3333333333333333,
             "#9c179e"
            ],
            [
             0.4444444444444444,
             "#bd3786"
            ],
            [
             0.5555555555555556,
             "#d8576b"
            ],
            [
             0.6666666666666666,
             "#ed7953"
            ],
            [
             0.7777777777777778,
             "#fb9f3a"
            ],
            [
             0.8888888888888888,
             "#fdca26"
            ],
            [
             1,
             "#f0f921"
            ]
           ],
           "sequentialminus": [
            [
             0,
             "#0d0887"
            ],
            [
             0.1111111111111111,
             "#46039f"
            ],
            [
             0.2222222222222222,
             "#7201a8"
            ],
            [
             0.3333333333333333,
             "#9c179e"
            ],
            [
             0.4444444444444444,
             "#bd3786"
            ],
            [
             0.5555555555555556,
             "#d8576b"
            ],
            [
             0.6666666666666666,
             "#ed7953"
            ],
            [
             0.7777777777777778,
             "#fb9f3a"
            ],
            [
             0.8888888888888888,
             "#fdca26"
            ],
            [
             1,
             "#f0f921"
            ]
           ]
          },
          "colorway": [
           "#636efa",
           "#EF553B",
           "#00cc96",
           "#ab63fa",
           "#FFA15A",
           "#19d3f3",
           "#FF6692",
           "#B6E880",
           "#FF97FF",
           "#FECB52"
          ],
          "font": {
           "color": "#2a3f5f"
          },
          "geo": {
           "bgcolor": "white",
           "lakecolor": "white",
           "landcolor": "#E5ECF6",
           "showlakes": true,
           "showland": true,
           "subunitcolor": "white"
          },
          "hoverlabel": {
           "align": "left"
          },
          "hovermode": "closest",
          "mapbox": {
           "style": "light"
          },
          "paper_bgcolor": "white",
          "plot_bgcolor": "#E5ECF6",
          "polar": {
           "angularaxis": {
            "gridcolor": "white",
            "linecolor": "white",
            "ticks": ""
           },
           "bgcolor": "#E5ECF6",
           "radialaxis": {
            "gridcolor": "white",
            "linecolor": "white",
            "ticks": ""
           }
          },
          "scene": {
           "xaxis": {
            "backgroundcolor": "#E5ECF6",
            "gridcolor": "white",
            "gridwidth": 2,
            "linecolor": "white",
            "showbackground": true,
            "ticks": "",
            "zerolinecolor": "white"
           },
           "yaxis": {
            "backgroundcolor": "#E5ECF6",
            "gridcolor": "white",
            "gridwidth": 2,
            "linecolor": "white",
            "showbackground": true,
            "ticks": "",
            "zerolinecolor": "white"
           },
           "zaxis": {
            "backgroundcolor": "#E5ECF6",
            "gridcolor": "white",
            "gridwidth": 2,
            "linecolor": "white",
            "showbackground": true,
            "ticks": "",
            "zerolinecolor": "white"
           }
          },
          "shapedefaults": {
           "line": {
            "color": "#2a3f5f"
           }
          },
          "ternary": {
           "aaxis": {
            "gridcolor": "white",
            "linecolor": "white",
            "ticks": ""
           },
           "baxis": {
            "gridcolor": "white",
            "linecolor": "white",
            "ticks": ""
           },
           "bgcolor": "#E5ECF6",
           "caxis": {
            "gridcolor": "white",
            "linecolor": "white",
            "ticks": ""
           }
          },
          "title": {
           "x": 0.05
          },
          "xaxis": {
           "automargin": true,
           "gridcolor": "white",
           "linecolor": "white",
           "ticks": "",
           "title": {
            "standoff": 15
           },
           "zerolinecolor": "white",
           "zerolinewidth": 2
          },
          "yaxis": {
           "automargin": true,
           "gridcolor": "white",
           "linecolor": "white",
           "ticks": "",
           "title": {
            "standoff": 15
           },
           "zerolinecolor": "white",
           "zerolinewidth": 2
          }
         }
        }
       }
      },
      "text/html": [
       "<div>                            <div id=\"4d3dc3b9-bb70-4b36-b0bf-54887006f8b5\" class=\"plotly-graph-div\" style=\"height:525px; width:100%;\"></div>            <script type=\"text/javascript\">                require([\"plotly\"], function(Plotly) {                    window.PLOTLYENV=window.PLOTLYENV || {};                                    if (document.getElementById(\"4d3dc3b9-bb70-4b36-b0bf-54887006f8b5\")) {                    Plotly.newPlot(                        \"4d3dc3b9-bb70-4b36-b0bf-54887006f8b5\",                        [{\"hovertemplate\": \"buy=Yes<br>values=%{r}<br>Ranking=%{theta}<extra></extra>\", \"legendgroup\": \"Yes\", \"line\": {\"color\": \"#636efa\", \"dash\": \"solid\"}, \"mode\": \"lines\", \"name\": \"Yes\", \"r\": [3.872340425531915, 3.1595744680851063, 3.8617021276595747, 3.9148936170212765, 3.3404255319148937, 3.8404255319148937, 3.723404255319149, 3.872340425531915], \"showlegend\": true, \"subplot\": \"polar\", \"theta\": [\"ranking_quality\", \"ranking_price\", \"ranking_discount\", \"ranking_ambiance\", \"ranking_wifi\", \"ranking_service\", \"ranking_meetings\", \"ranking_quality\"], \"type\": \"scatterpolar\"}, {\"hovertemplate\": \"buy=No<br>values=%{r}<br>Ranking=%{theta}<extra></extra>\", \"legendgroup\": \"No\", \"line\": {\"color\": \"#EF553B\", \"dash\": \"solid\"}, \"mode\": \"lines\", \"name\": \"No\", \"r\": [3.037037037037037, 2.037037037037037, 3.6666666666666665, 3.2222222222222223, 2.962962962962963, 3.4444444444444446, 2.814814814814815, 3.037037037037037], \"showlegend\": true, \"subplot\": \"polar\", \"theta\": [\"ranking_quality\", \"ranking_price\", \"ranking_discount\", \"ranking_ambiance\", \"ranking_wifi\", \"ranking_service\", \"ranking_meetings\", \"ranking_quality\"], \"type\": \"scatterpolar\"}],                        {\"legend\": {\"title\": {\"text\": \"buy\"}, \"tracegroupgap\": 0}, \"margin\": {\"t\": 60}, \"polar\": {\"angularaxis\": {\"direction\": \"clockwise\", \"rotation\": 90}, \"domain\": {\"x\": [0.0, 1.0], \"y\": [0.0, 1.0]}, \"radialaxis\": {\"range\": [0, 5]}}, \"template\": {\"data\": {\"bar\": [{\"error_x\": {\"color\": \"#2a3f5f\"}, \"error_y\": {\"color\": \"#2a3f5f\"}, \"marker\": {\"line\": {\"color\": \"#E5ECF6\", \"width\": 0.5}}, \"type\": \"bar\"}], \"barpolar\": [{\"marker\": {\"line\": {\"color\": \"#E5ECF6\", \"width\": 0.5}}, \"type\": \"barpolar\"}], \"carpet\": [{\"aaxis\": {\"endlinecolor\": \"#2a3f5f\", \"gridcolor\": \"white\", \"linecolor\": \"white\", \"minorgridcolor\": \"white\", \"startlinecolor\": \"#2a3f5f\"}, \"baxis\": {\"endlinecolor\": \"#2a3f5f\", \"gridcolor\": \"white\", \"linecolor\": \"white\", \"minorgridcolor\": \"white\", \"startlinecolor\": \"#2a3f5f\"}, \"type\": \"carpet\"}], \"choropleth\": [{\"colorbar\": {\"outlinewidth\": 0, \"ticks\": \"\"}, \"type\": \"choropleth\"}], \"contour\": [{\"colorbar\": {\"outlinewidth\": 0, \"ticks\": \"\"}, \"colorscale\": [[0.0, \"#0d0887\"], [0.1111111111111111, \"#46039f\"], [0.2222222222222222, \"#7201a8\"], [0.3333333333333333, \"#9c179e\"], [0.4444444444444444, \"#bd3786\"], [0.5555555555555556, \"#d8576b\"], [0.6666666666666666, \"#ed7953\"], [0.7777777777777778, \"#fb9f3a\"], [0.8888888888888888, \"#fdca26\"], [1.0, \"#f0f921\"]], \"type\": \"contour\"}], \"contourcarpet\": [{\"colorbar\": {\"outlinewidth\": 0, \"ticks\": \"\"}, \"type\": \"contourcarpet\"}], \"heatmap\": [{\"colorbar\": {\"outlinewidth\": 0, \"ticks\": \"\"}, \"colorscale\": [[0.0, \"#0d0887\"], [0.1111111111111111, \"#46039f\"], [0.2222222222222222, \"#7201a8\"], [0.3333333333333333, \"#9c179e\"], [0.4444444444444444, \"#bd3786\"], [0.5555555555555556, \"#d8576b\"], [0.6666666666666666, \"#ed7953\"], [0.7777777777777778, \"#fb9f3a\"], [0.8888888888888888, \"#fdca26\"], [1.0, \"#f0f921\"]], \"type\": \"heatmap\"}], \"heatmapgl\": [{\"colorbar\": {\"outlinewidth\": 0, \"ticks\": \"\"}, \"colorscale\": [[0.0, \"#0d0887\"], [0.1111111111111111, \"#46039f\"], [0.2222222222222222, \"#7201a8\"], [0.3333333333333333, \"#9c179e\"], [0.4444444444444444, \"#bd3786\"], [0.5555555555555556, \"#d8576b\"], [0.6666666666666666, \"#ed7953\"], [0.7777777777777778, \"#fb9f3a\"], [0.8888888888888888, \"#fdca26\"], [1.0, \"#f0f921\"]], \"type\": \"heatmapgl\"}], \"histogram\": [{\"marker\": {\"colorbar\": {\"outlinewidth\": 0, \"ticks\": \"\"}}, \"type\": \"histogram\"}], \"histogram2d\": [{\"colorbar\": {\"outlinewidth\": 0, \"ticks\": \"\"}, \"colorscale\": [[0.0, \"#0d0887\"], [0.1111111111111111, \"#46039f\"], [0.2222222222222222, \"#7201a8\"], [0.3333333333333333, \"#9c179e\"], [0.4444444444444444, \"#bd3786\"], [0.5555555555555556, \"#d8576b\"], [0.6666666666666666, \"#ed7953\"], [0.7777777777777778, \"#fb9f3a\"], [0.8888888888888888, \"#fdca26\"], [1.0, \"#f0f921\"]], \"type\": \"histogram2d\"}], \"histogram2dcontour\": [{\"colorbar\": {\"outlinewidth\": 0, \"ticks\": \"\"}, \"colorscale\": [[0.0, \"#0d0887\"], [0.1111111111111111, \"#46039f\"], [0.2222222222222222, \"#7201a8\"], [0.3333333333333333, \"#9c179e\"], [0.4444444444444444, \"#bd3786\"], [0.5555555555555556, \"#d8576b\"], [0.6666666666666666, \"#ed7953\"], [0.7777777777777778, \"#fb9f3a\"], [0.8888888888888888, \"#fdca26\"], [1.0, \"#f0f921\"]], \"type\": \"histogram2dcontour\"}], \"mesh3d\": [{\"colorbar\": {\"outlinewidth\": 0, \"ticks\": \"\"}, \"type\": \"mesh3d\"}], \"parcoords\": [{\"line\": {\"colorbar\": {\"outlinewidth\": 0, \"ticks\": \"\"}}, \"type\": \"parcoords\"}], \"pie\": [{\"automargin\": true, \"type\": \"pie\"}], \"scatter\": [{\"marker\": {\"colorbar\": {\"outlinewidth\": 0, \"ticks\": \"\"}}, \"type\": \"scatter\"}], \"scatter3d\": [{\"line\": {\"colorbar\": {\"outlinewidth\": 0, \"ticks\": \"\"}}, \"marker\": {\"colorbar\": {\"outlinewidth\": 0, \"ticks\": \"\"}}, \"type\": \"scatter3d\"}], \"scattercarpet\": [{\"marker\": {\"colorbar\": {\"outlinewidth\": 0, \"ticks\": \"\"}}, \"type\": \"scattercarpet\"}], \"scattergeo\": [{\"marker\": {\"colorbar\": {\"outlinewidth\": 0, \"ticks\": \"\"}}, \"type\": \"scattergeo\"}], \"scattergl\": [{\"marker\": {\"colorbar\": {\"outlinewidth\": 0, \"ticks\": \"\"}}, \"type\": \"scattergl\"}], \"scattermapbox\": [{\"marker\": {\"colorbar\": {\"outlinewidth\": 0, \"ticks\": \"\"}}, \"type\": \"scattermapbox\"}], \"scatterpolar\": [{\"marker\": {\"colorbar\": {\"outlinewidth\": 0, \"ticks\": \"\"}}, \"type\": \"scatterpolar\"}], \"scatterpolargl\": [{\"marker\": {\"colorbar\": {\"outlinewidth\": 0, \"ticks\": \"\"}}, \"type\": \"scatterpolargl\"}], \"scatterternary\": [{\"marker\": {\"colorbar\": {\"outlinewidth\": 0, \"ticks\": \"\"}}, \"type\": \"scatterternary\"}], \"surface\": [{\"colorbar\": {\"outlinewidth\": 0, \"ticks\": \"\"}, \"colorscale\": [[0.0, \"#0d0887\"], [0.1111111111111111, \"#46039f\"], [0.2222222222222222, \"#7201a8\"], [0.3333333333333333, \"#9c179e\"], [0.4444444444444444, \"#bd3786\"], [0.5555555555555556, \"#d8576b\"], [0.6666666666666666, \"#ed7953\"], [0.7777777777777778, \"#fb9f3a\"], [0.8888888888888888, \"#fdca26\"], [1.0, \"#f0f921\"]], \"type\": \"surface\"}], \"table\": [{\"cells\": {\"fill\": {\"color\": \"#EBF0F8\"}, \"line\": {\"color\": \"white\"}}, \"header\": {\"fill\": {\"color\": \"#C8D4E3\"}, \"line\": {\"color\": \"white\"}}, \"type\": \"table\"}]}, \"layout\": {\"annotationdefaults\": {\"arrowcolor\": \"#2a3f5f\", \"arrowhead\": 0, \"arrowwidth\": 1}, \"autotypenumbers\": \"strict\", \"coloraxis\": {\"colorbar\": {\"outlinewidth\": 0, \"ticks\": \"\"}}, \"colorscale\": {\"diverging\": [[0, \"#8e0152\"], [0.1, \"#c51b7d\"], [0.2, \"#de77ae\"], [0.3, \"#f1b6da\"], [0.4, \"#fde0ef\"], [0.5, \"#f7f7f7\"], [0.6, \"#e6f5d0\"], [0.7, \"#b8e186\"], [0.8, \"#7fbc41\"], [0.9, \"#4d9221\"], [1, \"#276419\"]], \"sequential\": [[0.0, \"#0d0887\"], [0.1111111111111111, \"#46039f\"], [0.2222222222222222, \"#7201a8\"], [0.3333333333333333, \"#9c179e\"], [0.4444444444444444, \"#bd3786\"], [0.5555555555555556, \"#d8576b\"], [0.6666666666666666, \"#ed7953\"], [0.7777777777777778, \"#fb9f3a\"], [0.8888888888888888, \"#fdca26\"], [1.0, \"#f0f921\"]], \"sequentialminus\": [[0.0, \"#0d0887\"], [0.1111111111111111, \"#46039f\"], [0.2222222222222222, \"#7201a8\"], [0.3333333333333333, \"#9c179e\"], [0.4444444444444444, \"#bd3786\"], [0.5555555555555556, \"#d8576b\"], [0.6666666666666666, \"#ed7953\"], [0.7777777777777778, \"#fb9f3a\"], [0.8888888888888888, \"#fdca26\"], [1.0, \"#f0f921\"]]}, \"colorway\": [\"#636efa\", \"#EF553B\", \"#00cc96\", \"#ab63fa\", \"#FFA15A\", \"#19d3f3\", \"#FF6692\", \"#B6E880\", \"#FF97FF\", \"#FECB52\"], \"font\": {\"color\": \"#2a3f5f\"}, \"geo\": {\"bgcolor\": \"white\", \"lakecolor\": \"white\", \"landcolor\": \"#E5ECF6\", \"showlakes\": true, \"showland\": true, \"subunitcolor\": \"white\"}, \"hoverlabel\": {\"align\": \"left\"}, \"hovermode\": \"closest\", \"mapbox\": {\"style\": \"light\"}, \"paper_bgcolor\": \"white\", \"plot_bgcolor\": \"#E5ECF6\", \"polar\": {\"angularaxis\": {\"gridcolor\": \"white\", \"linecolor\": \"white\", \"ticks\": \"\"}, \"bgcolor\": \"#E5ECF6\", \"radialaxis\": {\"gridcolor\": \"white\", \"linecolor\": \"white\", \"ticks\": \"\"}}, \"scene\": {\"xaxis\": {\"backgroundcolor\": \"#E5ECF6\", \"gridcolor\": \"white\", \"gridwidth\": 2, \"linecolor\": \"white\", \"showbackground\": true, \"ticks\": \"\", \"zerolinecolor\": \"white\"}, \"yaxis\": {\"backgroundcolor\": \"#E5ECF6\", \"gridcolor\": \"white\", \"gridwidth\": 2, \"linecolor\": \"white\", \"showbackground\": true, \"ticks\": \"\", \"zerolinecolor\": \"white\"}, \"zaxis\": {\"backgroundcolor\": \"#E5ECF6\", \"gridcolor\": \"white\", \"gridwidth\": 2, \"linecolor\": \"white\", \"showbackground\": true, \"ticks\": \"\", \"zerolinecolor\": \"white\"}}, \"shapedefaults\": {\"line\": {\"color\": \"#2a3f5f\"}}, \"ternary\": {\"aaxis\": {\"gridcolor\": \"white\", \"linecolor\": \"white\", \"ticks\": \"\"}, \"baxis\": {\"gridcolor\": \"white\", \"linecolor\": \"white\", \"ticks\": \"\"}, \"bgcolor\": \"#E5ECF6\", \"caxis\": {\"gridcolor\": \"white\", \"linecolor\": \"white\", \"ticks\": \"\"}}, \"title\": {\"x\": 0.05}, \"xaxis\": {\"automargin\": true, \"gridcolor\": \"white\", \"linecolor\": \"white\", \"ticks\": \"\", \"title\": {\"standoff\": 15}, \"zerolinecolor\": \"white\", \"zerolinewidth\": 2}, \"yaxis\": {\"automargin\": true, \"gridcolor\": \"white\", \"linecolor\": \"white\", \"ticks\": \"\", \"title\": {\"standoff\": 15}, \"zerolinecolor\": \"white\", \"zerolinewidth\": 2}}}},                        {\"responsive\": true}                    ).then(function(){\n",
       "                            \n",
       "var gd = document.getElementById('4d3dc3b9-bb70-4b36-b0bf-54887006f8b5');\n",
       "var x = new MutationObserver(function (mutations, observer) {{\n",
       "        var display = window.getComputedStyle(gd).display;\n",
       "        if (!display || display === 'none') {{\n",
       "            console.log([gd, 'removed!']);\n",
       "            Plotly.purge(gd);\n",
       "            observer.disconnect();\n",
       "        }}\n",
       "}});\n",
       "\n",
       "// Listen for the removal of the full notebook cells\n",
       "var notebookContainer = gd.closest('#notebook-container');\n",
       "if (notebookContainer) {{\n",
       "    x.observe(notebookContainer, {childList: true});\n",
       "}}\n",
       "\n",
       "// Listen for the clearing of the current output cell\n",
       "var outputEl = gd.closest('.output');\n",
       "if (outputEl) {{\n",
       "    x.observe(outputEl, {childList: true});\n",
       "}}\n",
       "\n",
       "                        })                };                });            </script>        </div>"
      ]
     },
     "metadata": {},
     "output_type": "display_data"
    }
   ],
   "source": [
    "fig = px.line_polar(new_df, r=\"values\", theta=\"Ranking\",\n",
    "                    color=\"buy\", line_close=True, range_r=[0, 5])\n",
    "fig.show()"
   ]
  },
  {
   "cell_type": "code",
   "execution_count": 76,
   "metadata": {
    "ExecuteTime": {
     "end_time": "2021-02-26T05:12:58.036036Z",
     "start_time": "2021-02-26T05:12:57.805684Z"
    }
   },
   "outputs": [
    {
     "data": {
      "image/png": "[encoded data removed]",
      "text/plain": [
       "<Figure size 720x576 with 1 Axes>"
      ]
     },
     "metadata": {},
     "output_type": "display_data"
    }
   ],
   "source": [
    "pie, ax = plt.subplots(figsize=[10, 8])\n",
    "counts = df['gender'].value_counts()\n",
    "sizes = counts.values.tolist()\n",
    "plt.pie(sizes, labels=counts.index, counterclock=False, autopct='%1.1f%%')\n",
    "plt.show()"
   ]
  },
  {
   "cell_type": "code",
   "execution_count": 77,
   "metadata": {
    "ExecuteTime": {
     "end_time": "2021-02-26T05:13:38.328095Z",
     "start_time": "2021-02-26T05:13:38.040521Z"
    }
   },
   "outputs": [
    {
     "data": {
      "image/png": "[encoded data removed]",
      "text/plain": [
       "<Figure size 720x576 with 1 Axes>"
      ]
     },
     "metadata": {},
     "output_type": "display_data"
    }
   ],
   "source": [
    "pie, ax = plt.subplots(figsize=[10, 8])\n",
    "counts = df['employment'].value_counts()\n",
    "sizes = counts.values.tolist()\n",
    "plt.pie(sizes, labels=counts.index, counterclock=False, autopct='%1.1f%%')\n",
    "plt.show()"
   ]
  },
  {
   "cell_type": "code",
   "execution_count": 78,
   "metadata": {
    "ExecuteTime": {
     "end_time": "2021-02-26T05:29:27.810281Z",
     "start_time": "2021-02-26T05:29:27.076675Z"
    }
   },
   "outputs": [
    {
     "name": "stderr",
     "output_type": "stream",
     "text": [
      "C:\\Users\\Minasyan\\AppData\\Roaming\\Python\\Python38\\site-packages\\seaborn\\_decorators.py:36: FutureWarning:\n",
      "\n",
      "Pass the following variable as a keyword arg: x. From version 0.12, the only valid positional argument will be `data`, and passing other arguments without an explicit keyword will result in an error or misinterpretation.\n",
      "\n"
     ]
    },
    {
     "data": {
      "image/png": "[encoded data removed]",
      "text/plain": [
       "<Figure size 1440x720 with 1 Axes>"
      ]
     },
     "metadata": {},
     "output_type": "display_data"
    }
   ],
   "source": [
    "plt.figure(figsize=(20, 10))\n",
    "sns.set(font_scale=1.5)\n",
    "ax = sns.countplot(df[\"income\"], hue=df[\"money\"])\n",
    "plt.ylabel('Number of respondents')\n",
    "plt.xlabel('Income Category')\n",
    "plt.title(\"On average, how much would you spend at Starbucks per visit?\", size=25);"
   ]
  },
  {
   "cell_type": "code",
   "execution_count": 79,
   "metadata": {
    "ExecuteTime": {
     "end_time": "2021-02-26T05:28:58.565523Z",
     "start_time": "2021-02-26T05:28:57.467970Z"
    }
   },
   "outputs": [
    {
     "data": {
      "text/plain": [
       "<Figure size 1800x1800 with 0 Axes>"
      ]
     },
     "metadata": {},
     "output_type": "display_data"
    },
    {
     "data": {
      "image/png": "[encoded data removed]",
      "text/plain": [
       "<Figure size 777.475x360 with 2 Axes>"
      ]
     },
     "metadata": {},
     "output_type": "display_data"
    }
   ],
   "source": [
    "sns.set(font_scale=1)\n",
    "plt.figure(figsize=(25, 25))\n",
    "g = sns.catplot(x=\"distance\", hue=\"buy\", col=\"gender\", data=df, kind=\"count\")\n",
    "(g.set_axis_labels(\"\", \"Number of respondents\"));"
   ]
  },
  {
   "cell_type": "code",
   "execution_count": null,
   "metadata": {},
   "outputs": [],
   "source": []
  }
 ],
 "metadata": {
  "hide_input": false,
  "kernelspec": {
   "display_name": "Python 3",
   "language": "python",
   "name": "python3"
  },
  "language_info": {
   "codemirror_mode": {
    "name": "ipython",
    "version": 3
   },
   "file_extension": ".py",
   "mimetype": "text/x-python",
   "name": "python",
   "nbconvert_exporter": "python",
   "pygments_lexer": "ipython3",
   "version": "3.8.5"
  },
  "toc": {
   "base_numbering": 1,
   "nav_menu": {},
   "number_sections": false,
   "sideBar": true,
   "skip_h1_title": false,
   "title_cell": "Table of Contents",
   "title_sidebar": "Contents",
   "toc_cell": false,
   "toc_position": {},
   "toc_section_display": true,
   "toc_window_display": false
  },
  "varInspector": {
   "cols": {
    "lenName": 16,
    "lenType": 16,
    "lenVar": 40
   },
   "kernels_config": {
    "python": {
     "delete_cmd_postfix": "",
     "delete_cmd_prefix": "del ",
     "library": "var_list.py",
     "varRefreshCmd": "print(var_dic_list())"
    },
    "r": {
     "delete_cmd_postfix": ") ",
     "delete_cmd_prefix": "rm(",
     "library": "var_list.r",
     "varRefreshCmd": "cat(var_dic_list()) "
    }
   },
   "types_to_exclude": [
    "module",
    "function",
    "builtin_function_or_method",
    "instance",
    "_Feature"
   ],
   "window_display": false
  }
 },
 "nbformat": 4,
 "nbformat_minor": 4
}
