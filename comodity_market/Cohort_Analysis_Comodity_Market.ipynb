{
 "cells": [
  {
   "cell_type": "markdown",
   "metadata": {},
   "source": [
    "# COHORT ANALYSIS AND RFM SEGMENTATION"
   ]
  },
  {
   "cell_type": "code",
   "execution_count": 1,
   "metadata": {
    "ExecuteTime": {
     "end_time": "2021-03-12T05:34:49.627424Z",
     "start_time": "2021-03-12T05:34:47.554423Z"
    }
   },
   "outputs": [],
   "source": [
    "import pandas as pd\n",
    "import numpy as np\n",
    "import datetime as dt\n",
    "import seaborn as sns\n",
    "import matplotlib.pyplot as plt"
   ]
  },
  {
   "cell_type": "code",
   "execution_count": 2,
   "metadata": {
    "ExecuteTime": {
     "end_time": "2021-03-12T05:34:49.734441Z",
     "start_time": "2021-03-12T05:34:49.633660Z"
    }
   },
   "outputs": [],
   "source": [
    "df = pd.read_csv(\"passs_FY2014.csv\")"
   ]
  },
  {
   "cell_type": "code",
   "execution_count": 3,
   "metadata": {
    "ExecuteTime": {
     "end_time": "2021-03-12T05:34:49.777562Z",
     "start_time": "2021-03-12T05:34:49.739528Z"
    }
   },
   "outputs": [
    {
     "data": {
      "text/html": [
       "<div>\n",
       "<style scoped>\n",
       "    .dataframe tbody tr th:only-of-type {\n",
       "        vertical-align: middle;\n",
       "    }\n",
       "\n",
       "    .dataframe tbody tr th {\n",
       "        vertical-align: top;\n",
       "    }\n",
       "\n",
       "    .dataframe thead th {\n",
       "        text-align: right;\n",
       "    }\n",
       "</style>\n",
       "<table border=\"1\" class=\"dataframe\">\n",
       "  <thead>\n",
       "    <tr style=\"text-align: right;\">\n",
       "      <th></th>\n",
       "      <th>PO_NUMBER</th>\n",
       "      <th>AGENCY</th>\n",
       "      <th>COMMODITY</th>\n",
       "      <th>VENDOR_NAME</th>\n",
       "      <th>ORDERED_DATE</th>\n",
       "      <th>PO_AMOUNT</th>\n",
       "    </tr>\n",
       "  </thead>\n",
       "  <tbody>\n",
       "    <tr>\n",
       "      <th>0</th>\n",
       "      <td>PO240430-V4</td>\n",
       "      <td>DEPARTMENT ON DISABILITY SERVICES</td>\n",
       "      <td>9187850:CONSULTING SERVICES, MEDICAL</td>\n",
       "      <td>PATRICIA R. COTT</td>\n",
       "      <td>16-Sep-13</td>\n",
       "      <td>6,344.63</td>\n",
       "    </tr>\n",
       "    <tr>\n",
       "      <th>1</th>\n",
       "      <td>PO250372-V3</td>\n",
       "      <td>DEPUTY MAYOR FOR ECONOMIC DEVELOPMENT</td>\n",
       "      <td>9625800:Professional Services (Not Otherwise C...</td>\n",
       "      <td>EDAW</td>\n",
       "      <td>27-Sep-13</td>\n",
       "      <td>551,683.84</td>\n",
       "    </tr>\n",
       "    <tr>\n",
       "      <th>2</th>\n",
       "      <td>PO253676-V2</td>\n",
       "      <td>DEPUTY MAYOR FOR ECONOMIC DEVELOPMENT</td>\n",
       "      <td>9180000:CONSULTING SERVICES</td>\n",
       "      <td>JONES LANG LASALLE</td>\n",
       "      <td>27-Sep-13</td>\n",
       "      <td>62,809.00</td>\n",
       "    </tr>\n",
       "    <tr>\n",
       "      <th>3</th>\n",
       "      <td>PO256208-V2</td>\n",
       "      <td>DEPUTY MAYOR FOR ECONOMIC DEVELOPMENT</td>\n",
       "      <td>9180000:CONSULTING SERVICES</td>\n",
       "      <td>LOUIS BERGER &amp; ASSOCIATES</td>\n",
       "      <td>27-Sep-13</td>\n",
       "      <td>68,497.41</td>\n",
       "    </tr>\n",
       "    <tr>\n",
       "      <th>4</th>\n",
       "      <td>PO266406-V2</td>\n",
       "      <td>DEPUTY MAYOR FOR ECONOMIC DEVELOPMENT</td>\n",
       "      <td>9614900:Legal Services, Attorneys</td>\n",
       "      <td>LEFTWICH &amp; LUDAWAY</td>\n",
       "      <td>27-Sep-13</td>\n",
       "      <td>113,075.86</td>\n",
       "    </tr>\n",
       "  </tbody>\n",
       "</table>\n",
       "</div>"
      ],
      "text/plain": [
       "     PO_NUMBER                                 AGENCY  \\\n",
       "0  PO240430-V4      DEPARTMENT ON DISABILITY SERVICES   \n",
       "1  PO250372-V3  DEPUTY MAYOR FOR ECONOMIC DEVELOPMENT   \n",
       "2  PO253676-V2  DEPUTY MAYOR FOR ECONOMIC DEVELOPMENT   \n",
       "3  PO256208-V2  DEPUTY MAYOR FOR ECONOMIC DEVELOPMENT   \n",
       "4  PO266406-V2  DEPUTY MAYOR FOR ECONOMIC DEVELOPMENT   \n",
       "\n",
       "                                           COMMODITY  \\\n",
       "0               9187850:CONSULTING SERVICES, MEDICAL   \n",
       "1  9625800:Professional Services (Not Otherwise C...   \n",
       "2                        9180000:CONSULTING SERVICES   \n",
       "3                        9180000:CONSULTING SERVICES   \n",
       "4                  9614900:Legal Services, Attorneys   \n",
       "\n",
       "                 VENDOR_NAME ORDERED_DATE   PO_AMOUNT  \n",
       "0           PATRICIA R. COTT    16-Sep-13    6,344.63  \n",
       "1                       EDAW    27-Sep-13  551,683.84  \n",
       "2         JONES LANG LASALLE    27-Sep-13   62,809.00  \n",
       "3  LOUIS BERGER & ASSOCIATES    27-Sep-13   68,497.41  \n",
       "4         LEFTWICH & LUDAWAY    27-Sep-13  113,075.86  "
      ]
     },
     "execution_count": 3,
     "metadata": {},
     "output_type": "execute_result"
    }
   ],
   "source": [
    "df.head()"
   ]
  },
  {
   "cell_type": "code",
   "execution_count": 4,
   "metadata": {
    "ExecuteTime": {
     "end_time": "2021-03-12T05:34:49.884416Z",
     "start_time": "2021-03-12T05:34:49.783054Z"
    }
   },
   "outputs": [
    {
     "data": {
      "text/html": [
       "<div>\n",
       "<style scoped>\n",
       "    .dataframe tbody tr th:only-of-type {\n",
       "        vertical-align: middle;\n",
       "    }\n",
       "\n",
       "    .dataframe tbody tr th {\n",
       "        vertical-align: top;\n",
       "    }\n",
       "\n",
       "    .dataframe thead th {\n",
       "        text-align: right;\n",
       "    }\n",
       "</style>\n",
       "<table border=\"1\" class=\"dataframe\">\n",
       "  <thead>\n",
       "    <tr style=\"text-align: right;\">\n",
       "      <th></th>\n",
       "      <th>PO_NUMBER</th>\n",
       "      <th>AGENCY</th>\n",
       "      <th>COMMODITY</th>\n",
       "      <th>VENDOR_NAME</th>\n",
       "      <th>ORDERED_DATE</th>\n",
       "      <th>PO_AMOUNT</th>\n",
       "    </tr>\n",
       "  </thead>\n",
       "  <tbody>\n",
       "    <tr>\n",
       "      <th>count</th>\n",
       "      <td>14946</td>\n",
       "      <td>14946</td>\n",
       "      <td>14946</td>\n",
       "      <td>14946</td>\n",
       "      <td>14946</td>\n",
       "      <td>14946</td>\n",
       "    </tr>\n",
       "    <tr>\n",
       "      <th>unique</th>\n",
       "      <td>12714</td>\n",
       "      <td>81</td>\n",
       "      <td>2518</td>\n",
       "      <td>4301</td>\n",
       "      <td>131</td>\n",
       "      <td>9669</td>\n",
       "    </tr>\n",
       "    <tr>\n",
       "      <th>top</th>\n",
       "      <td>PO488419</td>\n",
       "      <td>DISTRICT OF COLUMBIA PUBLIC SCHOOLS</td>\n",
       "      <td>9625800:Professional Services (Not Otherwise C...</td>\n",
       "      <td>OST, Inc.</td>\n",
       "      <td>27-Sep-13</td>\n",
       "      <td>10,000.00</td>\n",
       "    </tr>\n",
       "    <tr>\n",
       "      <th>freq</th>\n",
       "      <td>32</td>\n",
       "      <td>3959</td>\n",
       "      <td>1362</td>\n",
       "      <td>860</td>\n",
       "      <td>435</td>\n",
       "      <td>288</td>\n",
       "    </tr>\n",
       "  </tbody>\n",
       "</table>\n",
       "</div>"
      ],
      "text/plain": [
       "       PO_NUMBER                               AGENCY  \\\n",
       "count      14946                                14946   \n",
       "unique     12714                                   81   \n",
       "top     PO488419  DISTRICT OF COLUMBIA PUBLIC SCHOOLS   \n",
       "freq          32                                 3959   \n",
       "\n",
       "                                                COMMODITY VENDOR_NAME  \\\n",
       "count                                               14946       14946   \n",
       "unique                                               2518        4301   \n",
       "top     9625800:Professional Services (Not Otherwise C...   OST, Inc.   \n",
       "freq                                                 1362         860   \n",
       "\n",
       "       ORDERED_DATE  PO_AMOUNT  \n",
       "count         14946      14946  \n",
       "unique          131       9669  \n",
       "top       27-Sep-13  10,000.00  \n",
       "freq            435        288  "
      ]
     },
     "execution_count": 4,
     "metadata": {},
     "output_type": "execute_result"
    }
   ],
   "source": [
    "df.describe()"
   ]
  },
  {
   "cell_type": "code",
   "execution_count": 5,
   "metadata": {
    "ExecuteTime": {
     "end_time": "2021-03-12T05:34:49.908242Z",
     "start_time": "2021-03-12T05:34:49.886412Z"
    }
   },
   "outputs": [
    {
     "name": "stdout",
     "output_type": "stream",
     "text": [
      "<class 'pandas.core.frame.DataFrame'>\n",
      "RangeIndex: 14946 entries, 0 to 14945\n",
      "Data columns (total 6 columns):\n",
      " #   Column        Non-Null Count  Dtype \n",
      "---  ------        --------------  ----- \n",
      " 0   PO_NUMBER     14946 non-null  object\n",
      " 1   AGENCY        14946 non-null  object\n",
      " 2   COMMODITY     14946 non-null  object\n",
      " 3   VENDOR_NAME   14946 non-null  object\n",
      " 4   ORDERED_DATE  14946 non-null  object\n",
      " 5   PO_AMOUNT     14946 non-null  object\n",
      "dtypes: object(6)\n",
      "memory usage: 700.7+ KB\n"
     ]
    }
   ],
   "source": [
    "df.info()"
   ]
  },
  {
   "cell_type": "code",
   "execution_count": 6,
   "metadata": {
    "ExecuteTime": {
     "end_time": "2021-03-12T05:34:49.953486Z",
     "start_time": "2021-03-12T05:34:49.910088Z"
    }
   },
   "outputs": [],
   "source": [
    "df[\"ORDERED_DATE\"] = pd.to_datetime(df[\"ORDERED_DATE\"])"
   ]
  },
  {
   "cell_type": "code",
   "execution_count": 7,
   "metadata": {
    "ExecuteTime": {
     "end_time": "2021-03-12T05:34:49.973014Z",
     "start_time": "2021-03-12T05:34:49.957400Z"
    }
   },
   "outputs": [],
   "source": [
    "df['PO_AMOUNT'] = df['PO_AMOUNT'].replace('-', np.NaN)"
   ]
  },
  {
   "cell_type": "code",
   "execution_count": 8,
   "metadata": {
    "ExecuteTime": {
     "end_time": "2021-03-12T05:34:50.031825Z",
     "start_time": "2021-03-12T05:34:49.987609Z"
    }
   },
   "outputs": [],
   "source": [
    "df[\"PO_AMOUNT\"] = df[\"PO_AMOUNT\"].str.replace(',', \"\").astype('float')"
   ]
  },
  {
   "cell_type": "markdown",
   "metadata": {},
   "source": [
    "# Cohort Analysis "
   ]
  },
  {
   "cell_type": "markdown",
   "metadata": {},
   "source": [
    "### Assigning acquisition month cohort"
   ]
  },
  {
   "cell_type": "code",
   "execution_count": 9,
   "metadata": {
    "ExecuteTime": {
     "end_time": "2021-03-12T05:34:50.047658Z",
     "start_time": "2021-03-12T05:34:50.034987Z"
    }
   },
   "outputs": [],
   "source": [
    "def get_month(x):\n",
    "    return dt.datetime(x.year, x.month, 1)"
   ]
  },
  {
   "cell_type": "code",
   "execution_count": 10,
   "metadata": {
    "ExecuteTime": {
     "end_time": "2021-03-12T05:34:50.177596Z",
     "start_time": "2021-03-12T05:34:50.049691Z"
    }
   },
   "outputs": [
    {
     "data": {
      "text/html": [
       "<div>\n",
       "<style scoped>\n",
       "    .dataframe tbody tr th:only-of-type {\n",
       "        vertical-align: middle;\n",
       "    }\n",
       "\n",
       "    .dataframe tbody tr th {\n",
       "        vertical-align: top;\n",
       "    }\n",
       "\n",
       "    .dataframe thead th {\n",
       "        text-align: right;\n",
       "    }\n",
       "</style>\n",
       "<table border=\"1\" class=\"dataframe\">\n",
       "  <thead>\n",
       "    <tr style=\"text-align: right;\">\n",
       "      <th></th>\n",
       "      <th>PO_NUMBER</th>\n",
       "      <th>AGENCY</th>\n",
       "      <th>COMMODITY</th>\n",
       "      <th>VENDOR_NAME</th>\n",
       "      <th>ORDERED_DATE</th>\n",
       "      <th>PO_AMOUNT</th>\n",
       "      <th>ORDER_MONTH</th>\n",
       "      <th>COHORT_MONTH</th>\n",
       "    </tr>\n",
       "  </thead>\n",
       "  <tbody>\n",
       "    <tr>\n",
       "      <th>0</th>\n",
       "      <td>PO240430-V4</td>\n",
       "      <td>DEPARTMENT ON DISABILITY SERVICES</td>\n",
       "      <td>9187850:CONSULTING SERVICES, MEDICAL</td>\n",
       "      <td>PATRICIA R. COTT</td>\n",
       "      <td>2013-09-16</td>\n",
       "      <td>6344.63</td>\n",
       "      <td>2013-09-01</td>\n",
       "      <td>2013-09-01</td>\n",
       "    </tr>\n",
       "    <tr>\n",
       "      <th>1</th>\n",
       "      <td>PO250372-V3</td>\n",
       "      <td>DEPUTY MAYOR FOR ECONOMIC DEVELOPMENT</td>\n",
       "      <td>9625800:Professional Services (Not Otherwise C...</td>\n",
       "      <td>EDAW</td>\n",
       "      <td>2013-09-27</td>\n",
       "      <td>551683.84</td>\n",
       "      <td>2013-09-01</td>\n",
       "      <td>2013-09-01</td>\n",
       "    </tr>\n",
       "    <tr>\n",
       "      <th>2</th>\n",
       "      <td>PO253676-V2</td>\n",
       "      <td>DEPUTY MAYOR FOR ECONOMIC DEVELOPMENT</td>\n",
       "      <td>9180000:CONSULTING SERVICES</td>\n",
       "      <td>JONES LANG LASALLE</td>\n",
       "      <td>2013-09-27</td>\n",
       "      <td>62809.00</td>\n",
       "      <td>2013-09-01</td>\n",
       "      <td>2013-09-01</td>\n",
       "    </tr>\n",
       "    <tr>\n",
       "      <th>3</th>\n",
       "      <td>PO256208-V2</td>\n",
       "      <td>DEPUTY MAYOR FOR ECONOMIC DEVELOPMENT</td>\n",
       "      <td>9180000:CONSULTING SERVICES</td>\n",
       "      <td>LOUIS BERGER &amp; ASSOCIATES</td>\n",
       "      <td>2013-09-27</td>\n",
       "      <td>68497.41</td>\n",
       "      <td>2013-09-01</td>\n",
       "      <td>2013-09-01</td>\n",
       "    </tr>\n",
       "    <tr>\n",
       "      <th>4</th>\n",
       "      <td>PO266406-V2</td>\n",
       "      <td>DEPUTY MAYOR FOR ECONOMIC DEVELOPMENT</td>\n",
       "      <td>9614900:Legal Services, Attorneys</td>\n",
       "      <td>LEFTWICH &amp; LUDAWAY</td>\n",
       "      <td>2013-09-27</td>\n",
       "      <td>113075.86</td>\n",
       "      <td>2013-09-01</td>\n",
       "      <td>2013-09-01</td>\n",
       "    </tr>\n",
       "  </tbody>\n",
       "</table>\n",
       "</div>"
      ],
      "text/plain": [
       "     PO_NUMBER                                 AGENCY  \\\n",
       "0  PO240430-V4      DEPARTMENT ON DISABILITY SERVICES   \n",
       "1  PO250372-V3  DEPUTY MAYOR FOR ECONOMIC DEVELOPMENT   \n",
       "2  PO253676-V2  DEPUTY MAYOR FOR ECONOMIC DEVELOPMENT   \n",
       "3  PO256208-V2  DEPUTY MAYOR FOR ECONOMIC DEVELOPMENT   \n",
       "4  PO266406-V2  DEPUTY MAYOR FOR ECONOMIC DEVELOPMENT   \n",
       "\n",
       "                                           COMMODITY  \\\n",
       "0               9187850:CONSULTING SERVICES, MEDICAL   \n",
       "1  9625800:Professional Services (Not Otherwise C...   \n",
       "2                        9180000:CONSULTING SERVICES   \n",
       "3                        9180000:CONSULTING SERVICES   \n",
       "4                  9614900:Legal Services, Attorneys   \n",
       "\n",
       "                 VENDOR_NAME ORDERED_DATE  PO_AMOUNT ORDER_MONTH COHORT_MONTH  \n",
       "0           PATRICIA R. COTT   2013-09-16    6344.63  2013-09-01   2013-09-01  \n",
       "1                       EDAW   2013-09-27  551683.84  2013-09-01   2013-09-01  \n",
       "2         JONES LANG LASALLE   2013-09-27   62809.00  2013-09-01   2013-09-01  \n",
       "3  LOUIS BERGER & ASSOCIATES   2013-09-27   68497.41  2013-09-01   2013-09-01  \n",
       "4         LEFTWICH & LUDAWAY   2013-09-27  113075.86  2013-09-01   2013-09-01  "
      ]
     },
     "execution_count": 10,
     "metadata": {},
     "output_type": "execute_result"
    }
   ],
   "source": [
    "df['ORDER_MONTH'] = df['ORDERED_DATE'].apply(get_month)\n",
    "grouping = df.groupby('VENDOR_NAME')['ORDER_MONTH']\n",
    "df['COHORT_MONTH'] = grouping.transform('min')\n",
    "df.head()"
   ]
  },
  {
   "cell_type": "code",
   "execution_count": 11,
   "metadata": {
    "ExecuteTime": {
     "end_time": "2021-03-12T05:34:50.185680Z",
     "start_time": "2021-03-12T05:34:50.180548Z"
    }
   },
   "outputs": [],
   "source": [
    "# extracting year,month and day integer values\n",
    "def get_date_int(df, column):\n",
    "    year = df[column].dt.year\n",
    "    month = df[column].dt.month\n",
    "    day = df[column].dt.day\n",
    "    return year, month, day"
   ]
  },
  {
   "cell_type": "code",
   "execution_count": 12,
   "metadata": {
    "ExecuteTime": {
     "end_time": "2021-03-12T05:34:50.241787Z",
     "start_time": "2021-03-12T05:34:50.188673Z"
    }
   },
   "outputs": [
    {
     "data": {
      "text/html": [
       "<div>\n",
       "<style scoped>\n",
       "    .dataframe tbody tr th:only-of-type {\n",
       "        vertical-align: middle;\n",
       "    }\n",
       "\n",
       "    .dataframe tbody tr th {\n",
       "        vertical-align: top;\n",
       "    }\n",
       "\n",
       "    .dataframe thead th {\n",
       "        text-align: right;\n",
       "    }\n",
       "</style>\n",
       "<table border=\"1\" class=\"dataframe\">\n",
       "  <thead>\n",
       "    <tr style=\"text-align: right;\">\n",
       "      <th></th>\n",
       "      <th>PO_NUMBER</th>\n",
       "      <th>AGENCY</th>\n",
       "      <th>COMMODITY</th>\n",
       "      <th>VENDOR_NAME</th>\n",
       "      <th>ORDERED_DATE</th>\n",
       "      <th>PO_AMOUNT</th>\n",
       "      <th>ORDER_MONTH</th>\n",
       "      <th>COHORT_MONTH</th>\n",
       "      <th>COHORT_INDEX</th>\n",
       "    </tr>\n",
       "  </thead>\n",
       "  <tbody>\n",
       "    <tr>\n",
       "      <th>0</th>\n",
       "      <td>PO240430-V4</td>\n",
       "      <td>DEPARTMENT ON DISABILITY SERVICES</td>\n",
       "      <td>9187850:CONSULTING SERVICES, MEDICAL</td>\n",
       "      <td>PATRICIA R. COTT</td>\n",
       "      <td>2013-09-16</td>\n",
       "      <td>6344.63</td>\n",
       "      <td>2013-09-01</td>\n",
       "      <td>2013-09-01</td>\n",
       "      <td>1</td>\n",
       "    </tr>\n",
       "    <tr>\n",
       "      <th>1</th>\n",
       "      <td>PO250372-V3</td>\n",
       "      <td>DEPUTY MAYOR FOR ECONOMIC DEVELOPMENT</td>\n",
       "      <td>9625800:Professional Services (Not Otherwise C...</td>\n",
       "      <td>EDAW</td>\n",
       "      <td>2013-09-27</td>\n",
       "      <td>551683.84</td>\n",
       "      <td>2013-09-01</td>\n",
       "      <td>2013-09-01</td>\n",
       "      <td>1</td>\n",
       "    </tr>\n",
       "    <tr>\n",
       "      <th>2</th>\n",
       "      <td>PO253676-V2</td>\n",
       "      <td>DEPUTY MAYOR FOR ECONOMIC DEVELOPMENT</td>\n",
       "      <td>9180000:CONSULTING SERVICES</td>\n",
       "      <td>JONES LANG LASALLE</td>\n",
       "      <td>2013-09-27</td>\n",
       "      <td>62809.00</td>\n",
       "      <td>2013-09-01</td>\n",
       "      <td>2013-09-01</td>\n",
       "      <td>1</td>\n",
       "    </tr>\n",
       "    <tr>\n",
       "      <th>3</th>\n",
       "      <td>PO256208-V2</td>\n",
       "      <td>DEPUTY MAYOR FOR ECONOMIC DEVELOPMENT</td>\n",
       "      <td>9180000:CONSULTING SERVICES</td>\n",
       "      <td>LOUIS BERGER &amp; ASSOCIATES</td>\n",
       "      <td>2013-09-27</td>\n",
       "      <td>68497.41</td>\n",
       "      <td>2013-09-01</td>\n",
       "      <td>2013-09-01</td>\n",
       "      <td>1</td>\n",
       "    </tr>\n",
       "    <tr>\n",
       "      <th>4</th>\n",
       "      <td>PO266406-V2</td>\n",
       "      <td>DEPUTY MAYOR FOR ECONOMIC DEVELOPMENT</td>\n",
       "      <td>9614900:Legal Services, Attorneys</td>\n",
       "      <td>LEFTWICH &amp; LUDAWAY</td>\n",
       "      <td>2013-09-27</td>\n",
       "      <td>113075.86</td>\n",
       "      <td>2013-09-01</td>\n",
       "      <td>2013-09-01</td>\n",
       "      <td>1</td>\n",
       "    </tr>\n",
       "  </tbody>\n",
       "</table>\n",
       "</div>"
      ],
      "text/plain": [
       "     PO_NUMBER                                 AGENCY  \\\n",
       "0  PO240430-V4      DEPARTMENT ON DISABILITY SERVICES   \n",
       "1  PO250372-V3  DEPUTY MAYOR FOR ECONOMIC DEVELOPMENT   \n",
       "2  PO253676-V2  DEPUTY MAYOR FOR ECONOMIC DEVELOPMENT   \n",
       "3  PO256208-V2  DEPUTY MAYOR FOR ECONOMIC DEVELOPMENT   \n",
       "4  PO266406-V2  DEPUTY MAYOR FOR ECONOMIC DEVELOPMENT   \n",
       "\n",
       "                                           COMMODITY  \\\n",
       "0               9187850:CONSULTING SERVICES, MEDICAL   \n",
       "1  9625800:Professional Services (Not Otherwise C...   \n",
       "2                        9180000:CONSULTING SERVICES   \n",
       "3                        9180000:CONSULTING SERVICES   \n",
       "4                  9614900:Legal Services, Attorneys   \n",
       "\n",
       "                 VENDOR_NAME ORDERED_DATE  PO_AMOUNT ORDER_MONTH COHORT_MONTH  \\\n",
       "0           PATRICIA R. COTT   2013-09-16    6344.63  2013-09-01   2013-09-01   \n",
       "1                       EDAW   2013-09-27  551683.84  2013-09-01   2013-09-01   \n",
       "2         JONES LANG LASALLE   2013-09-27   62809.00  2013-09-01   2013-09-01   \n",
       "3  LOUIS BERGER & ASSOCIATES   2013-09-27   68497.41  2013-09-01   2013-09-01   \n",
       "4         LEFTWICH & LUDAWAY   2013-09-27  113075.86  2013-09-01   2013-09-01   \n",
       "\n",
       "   COHORT_INDEX  \n",
       "0             1  \n",
       "1             1  \n",
       "2             1  \n",
       "3             1  \n",
       "4             1  "
      ]
     },
     "execution_count": 12,
     "metadata": {},
     "output_type": "execute_result"
    }
   ],
   "source": [
    "order_year, order_month, _ = get_date_int(df, 'ORDER_MONTH')\n",
    "cohort_year, cohort_month, _ = get_date_int(df, 'COHORT_MONTH')\n",
    "years_diff = order_year - cohort_year\n",
    "months_diff = order_month - cohort_month\n",
    "df['COHORT_INDEX'] = years_diff * 12 + months_diff + 1\n",
    "df.head()"
   ]
  },
  {
   "cell_type": "code",
   "execution_count": 13,
   "metadata": {
    "ExecuteTime": {
     "end_time": "2021-03-12T05:34:50.293303Z",
     "start_time": "2021-03-12T05:34:50.244745Z"
    }
   },
   "outputs": [
    {
     "data": {
      "text/html": [
       "<div>\n",
       "<style scoped>\n",
       "    .dataframe tbody tr th:only-of-type {\n",
       "        vertical-align: middle;\n",
       "    }\n",
       "\n",
       "    .dataframe tbody tr th {\n",
       "        vertical-align: top;\n",
       "    }\n",
       "\n",
       "    .dataframe thead th {\n",
       "        text-align: right;\n",
       "    }\n",
       "</style>\n",
       "<table border=\"1\" class=\"dataframe\">\n",
       "  <thead>\n",
       "    <tr style=\"text-align: right;\">\n",
       "      <th>COHORT_INDEX</th>\n",
       "      <th>1</th>\n",
       "      <th>2</th>\n",
       "      <th>3</th>\n",
       "      <th>4</th>\n",
       "      <th>5</th>\n",
       "      <th>6</th>\n",
       "    </tr>\n",
       "    <tr>\n",
       "      <th>COHORT_MONTH</th>\n",
       "      <th></th>\n",
       "      <th></th>\n",
       "      <th></th>\n",
       "      <th></th>\n",
       "      <th></th>\n",
       "      <th></th>\n",
       "    </tr>\n",
       "  </thead>\n",
       "  <tbody>\n",
       "    <tr>\n",
       "      <th>2013-09-01</th>\n",
       "      <td>1397.0</td>\n",
       "      <td>451.0</td>\n",
       "      <td>493.0</td>\n",
       "      <td>368.0</td>\n",
       "      <td>389.0</td>\n",
       "      <td>362.0</td>\n",
       "    </tr>\n",
       "    <tr>\n",
       "      <th>2013-10-01</th>\n",
       "      <td>757.0</td>\n",
       "      <td>137.0</td>\n",
       "      <td>128.0</td>\n",
       "      <td>88.0</td>\n",
       "      <td>93.0</td>\n",
       "      <td>NaN</td>\n",
       "    </tr>\n",
       "    <tr>\n",
       "      <th>2013-11-01</th>\n",
       "      <td>756.0</td>\n",
       "      <td>79.0</td>\n",
       "      <td>114.0</td>\n",
       "      <td>86.0</td>\n",
       "      <td>NaN</td>\n",
       "      <td>NaN</td>\n",
       "    </tr>\n",
       "    <tr>\n",
       "      <th>2013-12-01</th>\n",
       "      <td>472.0</td>\n",
       "      <td>46.0</td>\n",
       "      <td>41.0</td>\n",
       "      <td>NaN</td>\n",
       "      <td>NaN</td>\n",
       "      <td>NaN</td>\n",
       "    </tr>\n",
       "    <tr>\n",
       "      <th>2014-01-01</th>\n",
       "      <td>523.0</td>\n",
       "      <td>41.0</td>\n",
       "      <td>NaN</td>\n",
       "      <td>NaN</td>\n",
       "      <td>NaN</td>\n",
       "      <td>NaN</td>\n",
       "    </tr>\n",
       "    <tr>\n",
       "      <th>2014-02-01</th>\n",
       "      <td>396.0</td>\n",
       "      <td>NaN</td>\n",
       "      <td>NaN</td>\n",
       "      <td>NaN</td>\n",
       "      <td>NaN</td>\n",
       "      <td>NaN</td>\n",
       "    </tr>\n",
       "  </tbody>\n",
       "</table>\n",
       "</div>"
      ],
      "text/plain": [
       "COHORT_INDEX       1      2      3      4      5      6\n",
       "COHORT_MONTH                                           \n",
       "2013-09-01    1397.0  451.0  493.0  368.0  389.0  362.0\n",
       "2013-10-01     757.0  137.0  128.0   88.0   93.0    NaN\n",
       "2013-11-01     756.0   79.0  114.0   86.0    NaN    NaN\n",
       "2013-12-01     472.0   46.0   41.0    NaN    NaN    NaN\n",
       "2014-01-01     523.0   41.0    NaN    NaN    NaN    NaN\n",
       "2014-02-01     396.0    NaN    NaN    NaN    NaN    NaN"
      ]
     },
     "execution_count": 13,
     "metadata": {},
     "output_type": "execute_result"
    }
   ],
   "source": [
    "grouping = df.groupby(['COHORT_MONTH', 'COHORT_INDEX'])\n",
    "cohort_data = grouping['VENDOR_NAME'].apply(pd.Series.nunique)\n",
    "cohort_data = cohort_data.reset_index()\n",
    "cohort_counts = cohort_data.pivot(\n",
    "    index='COHORT_MONTH', columns='COHORT_INDEX', values='VENDOR_NAME')\n",
    "cohort_counts"
   ]
  },
  {
   "cell_type": "code",
   "execution_count": 14,
   "metadata": {
    "ExecuteTime": {
     "end_time": "2021-03-12T05:34:50.312074Z",
     "start_time": "2021-03-12T05:34:50.296584Z"
    }
   },
   "outputs": [],
   "source": [
    "cohort_sizes = cohort_counts.iloc[:, 0]"
   ]
  },
  {
   "cell_type": "code",
   "execution_count": 15,
   "metadata": {
    "ExecuteTime": {
     "end_time": "2021-03-12T05:34:50.321556Z",
     "start_time": "2021-03-12T05:34:50.315572Z"
    }
   },
   "outputs": [],
   "source": [
    "retention = cohort_counts.divide(cohort_sizes, axis=0)"
   ]
  },
  {
   "cell_type": "code",
   "execution_count": 16,
   "metadata": {
    "ExecuteTime": {
     "end_time": "2021-03-12T05:34:50.384825Z",
     "start_time": "2021-03-12T05:34:50.326928Z"
    }
   },
   "outputs": [
    {
     "data": {
      "text/html": [
       "<div>\n",
       "<style scoped>\n",
       "    .dataframe tbody tr th:only-of-type {\n",
       "        vertical-align: middle;\n",
       "    }\n",
       "\n",
       "    .dataframe tbody tr th {\n",
       "        vertical-align: top;\n",
       "    }\n",
       "\n",
       "    .dataframe thead th {\n",
       "        text-align: right;\n",
       "    }\n",
       "</style>\n",
       "<table border=\"1\" class=\"dataframe\">\n",
       "  <thead>\n",
       "    <tr style=\"text-align: right;\">\n",
       "      <th>COHORT_INDEX</th>\n",
       "      <th>1</th>\n",
       "      <th>2</th>\n",
       "      <th>3</th>\n",
       "      <th>4</th>\n",
       "      <th>5</th>\n",
       "      <th>6</th>\n",
       "    </tr>\n",
       "    <tr>\n",
       "      <th>COHORT_MONTH</th>\n",
       "      <th></th>\n",
       "      <th></th>\n",
       "      <th></th>\n",
       "      <th></th>\n",
       "      <th></th>\n",
       "      <th></th>\n",
       "    </tr>\n",
       "  </thead>\n",
       "  <tbody>\n",
       "    <tr>\n",
       "      <th>2013-09-01</th>\n",
       "      <td>100.0</td>\n",
       "      <td>32.3</td>\n",
       "      <td>35.3</td>\n",
       "      <td>26.3</td>\n",
       "      <td>27.8</td>\n",
       "      <td>25.9</td>\n",
       "    </tr>\n",
       "    <tr>\n",
       "      <th>2013-10-01</th>\n",
       "      <td>100.0</td>\n",
       "      <td>18.1</td>\n",
       "      <td>16.9</td>\n",
       "      <td>11.6</td>\n",
       "      <td>12.3</td>\n",
       "      <td>NaN</td>\n",
       "    </tr>\n",
       "    <tr>\n",
       "      <th>2013-11-01</th>\n",
       "      <td>100.0</td>\n",
       "      <td>10.4</td>\n",
       "      <td>15.1</td>\n",
       "      <td>11.4</td>\n",
       "      <td>NaN</td>\n",
       "      <td>NaN</td>\n",
       "    </tr>\n",
       "    <tr>\n",
       "      <th>2013-12-01</th>\n",
       "      <td>100.0</td>\n",
       "      <td>9.7</td>\n",
       "      <td>8.7</td>\n",
       "      <td>NaN</td>\n",
       "      <td>NaN</td>\n",
       "      <td>NaN</td>\n",
       "    </tr>\n",
       "    <tr>\n",
       "      <th>2014-01-01</th>\n",
       "      <td>100.0</td>\n",
       "      <td>7.8</td>\n",
       "      <td>NaN</td>\n",
       "      <td>NaN</td>\n",
       "      <td>NaN</td>\n",
       "      <td>NaN</td>\n",
       "    </tr>\n",
       "    <tr>\n",
       "      <th>2014-02-01</th>\n",
       "      <td>100.0</td>\n",
       "      <td>NaN</td>\n",
       "      <td>NaN</td>\n",
       "      <td>NaN</td>\n",
       "      <td>NaN</td>\n",
       "      <td>NaN</td>\n",
       "    </tr>\n",
       "  </tbody>\n",
       "</table>\n",
       "</div>"
      ],
      "text/plain": [
       "COHORT_INDEX      1     2     3     4     5     6\n",
       "COHORT_MONTH                                     \n",
       "2013-09-01    100.0  32.3  35.3  26.3  27.8  25.9\n",
       "2013-10-01    100.0  18.1  16.9  11.6  12.3   NaN\n",
       "2013-11-01    100.0  10.4  15.1  11.4   NaN   NaN\n",
       "2013-12-01    100.0   9.7   8.7   NaN   NaN   NaN\n",
       "2014-01-01    100.0   7.8   NaN   NaN   NaN   NaN\n",
       "2014-02-01    100.0   NaN   NaN   NaN   NaN   NaN"
      ]
     },
     "execution_count": 16,
     "metadata": {},
     "output_type": "execute_result"
    }
   ],
   "source": [
    "retention.round(3) * 100"
   ]
  },
  {
   "cell_type": "code",
   "execution_count": 17,
   "metadata": {
    "ExecuteTime": {
     "end_time": "2021-03-12T05:34:51.060739Z",
     "start_time": "2021-03-12T05:34:50.390677Z"
    },
    "scrolled": false
   },
   "outputs": [
    {
     "data": {
      "image/png": "[encoded data removed]",
      "text/plain": [
       "<Figure size 720x576 with 2 Axes>"
      ]
     },
     "metadata": {
      "needs_background": "light"
     },
     "output_type": "display_data"
    }
   ],
   "source": [
    "plt.figure(figsize=(10, 8))\n",
    "plt.title('Retention rates')\n",
    "sns.heatmap(data=retention,\n",
    "            annot=True,\n",
    "            fmt='.0%',\n",
    "            vmin=0.0,\n",
    "            vmax=0.5,\n",
    "            cmap='PuBuGn')\n",
    "plt.show()"
   ]
  },
  {
   "cell_type": "markdown",
   "metadata": {},
   "source": [
    "# RFM SEGMENTATION"
   ]
  },
  {
   "cell_type": "code",
   "execution_count": 18,
   "metadata": {
    "ExecuteTime": {
     "end_time": "2021-03-12T05:34:51.073358Z",
     "start_time": "2021-03-12T05:34:51.062769Z"
    }
   },
   "outputs": [],
   "source": [
    "r_labels = ['Active', 'Lapsed', 'Inactive', 'Churned']\n",
    "po_amount_quantiles = pd.qcut(df[\"PO_AMOUNT\"], q=4, labels=r_labels)"
   ]
  },
  {
   "cell_type": "code",
   "execution_count": 19,
   "metadata": {
    "ExecuteTime": {
     "end_time": "2021-03-12T05:34:51.139611Z",
     "start_time": "2021-03-12T05:34:51.074865Z"
    }
   },
   "outputs": [],
   "source": [
    "df[\"PO_AMOUNT_QUARTILES\"] = po_amount_quantiles"
   ]
  },
  {
   "cell_type": "code",
   "execution_count": 20,
   "metadata": {
    "ExecuteTime": {
     "end_time": "2021-03-12T05:34:51.197577Z",
     "start_time": "2021-03-12T05:34:51.144000Z"
    }
   },
   "outputs": [
    {
     "data": {
      "text/html": [
       "<div>\n",
       "<style scoped>\n",
       "    .dataframe tbody tr th:only-of-type {\n",
       "        vertical-align: middle;\n",
       "    }\n",
       "\n",
       "    .dataframe tbody tr th {\n",
       "        vertical-align: top;\n",
       "    }\n",
       "\n",
       "    .dataframe thead th {\n",
       "        text-align: right;\n",
       "    }\n",
       "</style>\n",
       "<table border=\"1\" class=\"dataframe\">\n",
       "  <thead>\n",
       "    <tr style=\"text-align: right;\">\n",
       "      <th></th>\n",
       "      <th>PO_NUMBER</th>\n",
       "      <th>AGENCY</th>\n",
       "      <th>COMMODITY</th>\n",
       "      <th>VENDOR_NAME</th>\n",
       "      <th>ORDERED_DATE</th>\n",
       "      <th>PO_AMOUNT</th>\n",
       "      <th>ORDER_MONTH</th>\n",
       "      <th>COHORT_MONTH</th>\n",
       "      <th>COHORT_INDEX</th>\n",
       "      <th>PO_AMOUNT_QUARTILES</th>\n",
       "    </tr>\n",
       "  </thead>\n",
       "  <tbody>\n",
       "    <tr>\n",
       "      <th>14945</th>\n",
       "      <td>PO492648</td>\n",
       "      <td>OFFICE OF CAMPAIGN FINANCE</td>\n",
       "      <td>6156711:CLIPS, PAPER, BALL BEARING</td>\n",
       "      <td>METROPOLITAN OFFICE PRODUCTS</td>\n",
       "      <td>2014-02-28</td>\n",
       "      <td>88.55</td>\n",
       "      <td>2014-02-01</td>\n",
       "      <td>2013-09-01</td>\n",
       "      <td>6</td>\n",
       "      <td>Active</td>\n",
       "    </tr>\n",
       "    <tr>\n",
       "      <th>10474</th>\n",
       "      <td>PO488738</td>\n",
       "      <td>DC NATIONAL GUARD</td>\n",
       "      <td>1958018:CLOCK, WALL, QUARTZ MOVEMENT, BATTERY ...</td>\n",
       "      <td>LASER ART INC</td>\n",
       "      <td>2013-12-23</td>\n",
       "      <td>31.01</td>\n",
       "      <td>2013-12-01</td>\n",
       "      <td>2013-09-01</td>\n",
       "      <td>4</td>\n",
       "      <td>Active</td>\n",
       "    </tr>\n",
       "    <tr>\n",
       "      <th>10471</th>\n",
       "      <td>PO488735</td>\n",
       "      <td>OFFICE OF PEOPLE'S COUNSEL</td>\n",
       "      <td>6151556:BOOKS, PLANNERS, ORGANIZERS, CALENDAR,...</td>\n",
       "      <td>Capital Services and Supplies</td>\n",
       "      <td>2013-12-23</td>\n",
       "      <td>660.72</td>\n",
       "      <td>2013-12-01</td>\n",
       "      <td>2013-09-01</td>\n",
       "      <td>4</td>\n",
       "      <td>Active</td>\n",
       "    </tr>\n",
       "    <tr>\n",
       "      <th>10468</th>\n",
       "      <td>PO488732</td>\n",
       "      <td>DISTRICT OF COLUMBIA PUBLIC SCHOOLS</td>\n",
       "      <td>4857215:APPLICATORS, MOP, WET, RAYON, WAX</td>\n",
       "      <td>MDM Office Systems DBA Standard Office Supply</td>\n",
       "      <td>2013-12-23</td>\n",
       "      <td>435.00</td>\n",
       "      <td>2013-12-01</td>\n",
       "      <td>2013-09-01</td>\n",
       "      <td>4</td>\n",
       "      <td>Active</td>\n",
       "    </tr>\n",
       "    <tr>\n",
       "      <th>10463</th>\n",
       "      <td>PO488726</td>\n",
       "      <td>OFFICE OF THE MAYOR</td>\n",
       "      <td>9180600:Administrative Consulting</td>\n",
       "      <td>McMahon Consulting Group</td>\n",
       "      <td>2013-12-23</td>\n",
       "      <td>1125.00</td>\n",
       "      <td>2013-12-01</td>\n",
       "      <td>2013-12-01</td>\n",
       "      <td>1</td>\n",
       "      <td>Active</td>\n",
       "    </tr>\n",
       "  </tbody>\n",
       "</table>\n",
       "</div>"
      ],
      "text/plain": [
       "      PO_NUMBER                               AGENCY  \\\n",
       "14945  PO492648           OFFICE OF CAMPAIGN FINANCE   \n",
       "10474  PO488738                    DC NATIONAL GUARD   \n",
       "10471  PO488735           OFFICE OF PEOPLE'S COUNSEL   \n",
       "10468  PO488732  DISTRICT OF COLUMBIA PUBLIC SCHOOLS   \n",
       "10463  PO488726                  OFFICE OF THE MAYOR   \n",
       "\n",
       "                                               COMMODITY  \\\n",
       "14945                 6156711:CLIPS, PAPER, BALL BEARING   \n",
       "10474  1958018:CLOCK, WALL, QUARTZ MOVEMENT, BATTERY ...   \n",
       "10471  6151556:BOOKS, PLANNERS, ORGANIZERS, CALENDAR,...   \n",
       "10468          4857215:APPLICATORS, MOP, WET, RAYON, WAX   \n",
       "10463                  9180600:Administrative Consulting   \n",
       "\n",
       "                                         VENDOR_NAME ORDERED_DATE  PO_AMOUNT  \\\n",
       "14945                   METROPOLITAN OFFICE PRODUCTS   2014-02-28      88.55   \n",
       "10474                                  LASER ART INC   2013-12-23      31.01   \n",
       "10471                  Capital Services and Supplies   2013-12-23     660.72   \n",
       "10468  MDM Office Systems DBA Standard Office Supply   2013-12-23     435.00   \n",
       "10463                       McMahon Consulting Group   2013-12-23    1125.00   \n",
       "\n",
       "      ORDER_MONTH COHORT_MONTH  COHORT_INDEX PO_AMOUNT_QUARTILES  \n",
       "14945  2014-02-01   2013-09-01             6              Active  \n",
       "10474  2013-12-01   2013-09-01             4              Active  \n",
       "10471  2013-12-01   2013-09-01             4              Active  \n",
       "10468  2013-12-01   2013-09-01             4              Active  \n",
       "10463  2013-12-01   2013-12-01             1              Active  "
      ]
     },
     "execution_count": 20,
     "metadata": {},
     "output_type": "execute_result"
    }
   ],
   "source": [
    "df.sort_values(\"PO_AMOUNT_QUARTILES\").head()"
   ]
  },
  {
   "cell_type": "code",
   "execution_count": 21,
   "metadata": {
    "ExecuteTime": {
     "end_time": "2021-03-12T05:34:51.241303Z",
     "start_time": "2021-03-12T05:34:51.200916Z"
    }
   },
   "outputs": [],
   "source": [
    "snapshot_date = max(df.ORDERED_DATE) + dt.timedelta(days=1)"
   ]
  },
  {
   "cell_type": "code",
   "execution_count": 22,
   "metadata": {
    "ExecuteTime": {
     "end_time": "2021-03-12T05:34:51.682479Z",
     "start_time": "2021-03-12T05:34:51.251882Z"
    }
   },
   "outputs": [],
   "source": [
    "# Aggregating data on a customer level\n",
    "datamart = df.groupby(['VENDOR_NAME']).agg({\n",
    "    'ORDERED_DATE': lambda x: (snapshot_date - x.max()).days,\n",
    "    'AGENCY': 'count',\n",
    "    'PO_AMOUNT': 'sum'})"
   ]
  },
  {
   "cell_type": "code",
   "execution_count": 23,
   "metadata": {
    "ExecuteTime": {
     "end_time": "2021-03-12T05:34:51.697780Z",
     "start_time": "2021-03-12T05:34:51.685284Z"
    }
   },
   "outputs": [],
   "source": [
    "# Renaming columns for easier interpretation\n",
    "datamart.rename(columns={'ORDERED_DATE': 'Recency', 'AGENCY': 'Frequency',\n",
    "                         'PO_AMOUNT': 'MonetaryValue'}, inplace=True)"
   ]
  },
  {
   "cell_type": "code",
   "execution_count": 24,
   "metadata": {
    "ExecuteTime": {
     "end_time": "2021-03-12T05:34:51.777745Z",
     "start_time": "2021-03-12T05:34:51.701132Z"
    }
   },
   "outputs": [
    {
     "data": {
      "text/html": [
       "<div>\n",
       "<style scoped>\n",
       "    .dataframe tbody tr th:only-of-type {\n",
       "        vertical-align: middle;\n",
       "    }\n",
       "\n",
       "    .dataframe tbody tr th {\n",
       "        vertical-align: top;\n",
       "    }\n",
       "\n",
       "    .dataframe thead th {\n",
       "        text-align: right;\n",
       "    }\n",
       "</style>\n",
       "<table border=\"1\" class=\"dataframe\">\n",
       "  <thead>\n",
       "    <tr style=\"text-align: right;\">\n",
       "      <th></th>\n",
       "      <th>Recency</th>\n",
       "      <th>Frequency</th>\n",
       "      <th>MonetaryValue</th>\n",
       "    </tr>\n",
       "    <tr>\n",
       "      <th>VENDOR_NAME</th>\n",
       "      <th></th>\n",
       "      <th></th>\n",
       "      <th></th>\n",
       "    </tr>\n",
       "  </thead>\n",
       "  <tbody>\n",
       "    <tr>\n",
       "      <th>1001 RESTARAUNT CORPORATION</th>\n",
       "      <td>166</td>\n",
       "      <td>2</td>\n",
       "      <td>2885.94</td>\n",
       "    </tr>\n",
       "    <tr>\n",
       "      <th>1125 15TH ST. LLC</th>\n",
       "      <td>47</td>\n",
       "      <td>1</td>\n",
       "      <td>5000.00</td>\n",
       "    </tr>\n",
       "    <tr>\n",
       "      <th>1417 N St NE Coop Assoc</th>\n",
       "      <td>116</td>\n",
       "      <td>1</td>\n",
       "      <td>324551.53</td>\n",
       "    </tr>\n",
       "    <tr>\n",
       "      <th>19TH STREET BAPTIST CHRUCH</th>\n",
       "      <td>86</td>\n",
       "      <td>1</td>\n",
       "      <td>3200.00</td>\n",
       "    </tr>\n",
       "    <tr>\n",
       "      <th>20-20 Captioning &amp; Reporting</th>\n",
       "      <td>135</td>\n",
       "      <td>1</td>\n",
       "      <td>1600.00</td>\n",
       "    </tr>\n",
       "  </tbody>\n",
       "</table>\n",
       "</div>"
      ],
      "text/plain": [
       "                              Recency  Frequency  MonetaryValue\n",
       "VENDOR_NAME                                                    \n",
       "1001 RESTARAUNT CORPORATION       166          2        2885.94\n",
       "1125 15TH ST. LLC                  47          1        5000.00\n",
       "1417 N St NE Coop Assoc           116          1      324551.53\n",
       "19TH STREET BAPTIST CHRUCH         86          1        3200.00\n",
       "20-20 Captioning & Reporting      135          1        1600.00"
      ]
     },
     "execution_count": 24,
     "metadata": {},
     "output_type": "execute_result"
    }
   ],
   "source": [
    "datamart.head()"
   ]
  },
  {
   "cell_type": "code",
   "execution_count": 25,
   "metadata": {
    "ExecuteTime": {
     "end_time": "2021-03-12T05:34:51.809976Z",
     "start_time": "2021-03-12T05:34:51.784022Z"
    }
   },
   "outputs": [],
   "source": [
    "r_labels = range(4, 0, -1)\n",
    "r_quartiles = pd.qcut(datamart['Recency'], 4, labels=r_labels)\n",
    "datamart = datamart.assign(R=r_quartiles.values)"
   ]
  },
  {
   "cell_type": "code",
   "execution_count": 26,
   "metadata": {
    "ExecuteTime": {
     "end_time": "2021-03-12T05:34:51.841867Z",
     "start_time": "2021-03-12T05:34:51.816138Z"
    }
   },
   "outputs": [],
   "source": [
    "f_labels = range(1, 5)\n",
    "f_quartiles = pd.cut(datamart['Frequency'], 4, labels=f_labels)\n",
    "datamart = datamart.assign(F=f_quartiles.values)"
   ]
  },
  {
   "cell_type": "code",
   "execution_count": 27,
   "metadata": {
    "ExecuteTime": {
     "end_time": "2021-03-12T05:34:51.873583Z",
     "start_time": "2021-03-12T05:34:51.848648Z"
    }
   },
   "outputs": [],
   "source": [
    "m_labels = range(1, 5)\n",
    "m_quartiles = pd.qcut(datamart['MonetaryValue'], 4, labels=m_labels)\n",
    "datamart = datamart.assign(M=m_quartiles.values)"
   ]
  },
  {
   "cell_type": "code",
   "execution_count": 28,
   "metadata": {
    "ExecuteTime": {
     "end_time": "2021-03-12T05:34:51.892563Z",
     "start_time": "2021-03-12T05:34:51.877953Z"
    }
   },
   "outputs": [],
   "source": [
    "datamart[\"F\"] = datamart[\"F\"].astype('int')\n",
    "datamart[\"M\"] = datamart[\"M\"].astype('int')"
   ]
  },
  {
   "cell_type": "code",
   "execution_count": 29,
   "metadata": {
    "ExecuteTime": {
     "end_time": "2021-03-12T05:34:51.908010Z",
     "start_time": "2021-03-12T05:34:51.896733Z"
    }
   },
   "outputs": [],
   "source": [
    "def join_rfm(x):\n",
    "    return str(int(x['R'])) + str(int(x['F'])) + str(int(x['M']))"
   ]
  },
  {
   "cell_type": "code",
   "execution_count": 30,
   "metadata": {
    "ExecuteTime": {
     "end_time": "2021-03-12T05:34:52.044331Z",
     "start_time": "2021-03-12T05:34:51.911389Z"
    }
   },
   "outputs": [],
   "source": [
    "datamart['RFM_Segment'] = datamart.apply(join_rfm, axis=1)\n",
    "datamart['RFM_Score'] = datamart[['R', 'F', 'M']].sum(axis=1)"
   ]
  },
  {
   "cell_type": "code",
   "execution_count": 31,
   "metadata": {
    "ExecuteTime": {
     "end_time": "2021-03-12T05:34:52.075803Z",
     "start_time": "2021-03-12T05:34:52.047492Z"
    }
   },
   "outputs": [
    {
     "data": {
      "text/html": [
       "<div>\n",
       "<style scoped>\n",
       "    .dataframe tbody tr th:only-of-type {\n",
       "        vertical-align: middle;\n",
       "    }\n",
       "\n",
       "    .dataframe tbody tr th {\n",
       "        vertical-align: top;\n",
       "    }\n",
       "\n",
       "    .dataframe thead th {\n",
       "        text-align: right;\n",
       "    }\n",
       "</style>\n",
       "<table border=\"1\" class=\"dataframe\">\n",
       "  <thead>\n",
       "    <tr style=\"text-align: right;\">\n",
       "      <th></th>\n",
       "      <th>Recency</th>\n",
       "      <th>Frequency</th>\n",
       "      <th>MonetaryValue</th>\n",
       "      <th>R</th>\n",
       "      <th>F</th>\n",
       "      <th>M</th>\n",
       "      <th>RFM_Segment</th>\n",
       "      <th>RFM_Score</th>\n",
       "    </tr>\n",
       "    <tr>\n",
       "      <th>VENDOR_NAME</th>\n",
       "      <th></th>\n",
       "      <th></th>\n",
       "      <th></th>\n",
       "      <th></th>\n",
       "      <th></th>\n",
       "      <th></th>\n",
       "      <th></th>\n",
       "      <th></th>\n",
       "    </tr>\n",
       "  </thead>\n",
       "  <tbody>\n",
       "    <tr>\n",
       "      <th>1001 RESTARAUNT CORPORATION</th>\n",
       "      <td>166</td>\n",
       "      <td>2</td>\n",
       "      <td>2885.94</td>\n",
       "      <td>1</td>\n",
       "      <td>1</td>\n",
       "      <td>1</td>\n",
       "      <td>111</td>\n",
       "      <td>3</td>\n",
       "    </tr>\n",
       "    <tr>\n",
       "      <th>1125 15TH ST. LLC</th>\n",
       "      <td>47</td>\n",
       "      <td>1</td>\n",
       "      <td>5000.00</td>\n",
       "      <td>3</td>\n",
       "      <td>1</td>\n",
       "      <td>1</td>\n",
       "      <td>311</td>\n",
       "      <td>5</td>\n",
       "    </tr>\n",
       "    <tr>\n",
       "      <th>1417 N St NE Coop Assoc</th>\n",
       "      <td>116</td>\n",
       "      <td>1</td>\n",
       "      <td>324551.53</td>\n",
       "      <td>2</td>\n",
       "      <td>1</td>\n",
       "      <td>4</td>\n",
       "      <td>214</td>\n",
       "      <td>7</td>\n",
       "    </tr>\n",
       "    <tr>\n",
       "      <th>19TH STREET BAPTIST CHRUCH</th>\n",
       "      <td>86</td>\n",
       "      <td>1</td>\n",
       "      <td>3200.00</td>\n",
       "      <td>2</td>\n",
       "      <td>1</td>\n",
       "      <td>1</td>\n",
       "      <td>211</td>\n",
       "      <td>4</td>\n",
       "    </tr>\n",
       "    <tr>\n",
       "      <th>20-20 Captioning &amp; Reporting</th>\n",
       "      <td>135</td>\n",
       "      <td>1</td>\n",
       "      <td>1600.00</td>\n",
       "      <td>1</td>\n",
       "      <td>1</td>\n",
       "      <td>1</td>\n",
       "      <td>111</td>\n",
       "      <td>3</td>\n",
       "    </tr>\n",
       "  </tbody>\n",
       "</table>\n",
       "</div>"
      ],
      "text/plain": [
       "                              Recency  Frequency  MonetaryValue  R  F  M  \\\n",
       "VENDOR_NAME                                                                \n",
       "1001 RESTARAUNT CORPORATION       166          2        2885.94  1  1  1   \n",
       "1125 15TH ST. LLC                  47          1        5000.00  3  1  1   \n",
       "1417 N St NE Coop Assoc           116          1      324551.53  2  1  4   \n",
       "19TH STREET BAPTIST CHRUCH         86          1        3200.00  2  1  1   \n",
       "20-20 Captioning & Reporting      135          1        1600.00  1  1  1   \n",
       "\n",
       "                             RFM_Segment  RFM_Score  \n",
       "VENDOR_NAME                                          \n",
       "1001 RESTARAUNT CORPORATION          111          3  \n",
       "1125 15TH ST. LLC                    311          5  \n",
       "1417 N St NE Coop Assoc              214          7  \n",
       "19TH STREET BAPTIST CHRUCH           211          4  \n",
       "20-20 Captioning & Reporting         111          3  "
      ]
     },
     "execution_count": 31,
     "metadata": {},
     "output_type": "execute_result"
    }
   ],
   "source": [
    "datamart.head()"
   ]
  },
  {
   "cell_type": "code",
   "execution_count": 32,
   "metadata": {
    "ExecuteTime": {
     "end_time": "2021-03-12T05:34:52.128730Z",
     "start_time": "2021-03-12T05:34:52.078399Z"
    }
   },
   "outputs": [
    {
     "data": {
      "text/plain": [
       "RFM_Segment\n",
       "414    446\n",
       "111    336\n",
       "112    308\n",
       "313    292\n",
       "312    287\n",
       "211    283\n",
       "213    282\n",
       "212    282\n",
       "314    261\n",
       "311    258\n",
       "dtype: int64"
      ]
     },
     "execution_count": 32,
     "metadata": {},
     "output_type": "execute_result"
    }
   ],
   "source": [
    "datamart.groupby('RFM_Segment').size().sort_values(ascending=False)[:10]"
   ]
  },
  {
   "cell_type": "code",
   "execution_count": 33,
   "metadata": {
    "ExecuteTime": {
     "end_time": "2021-03-12T05:34:52.179376Z",
     "start_time": "2021-03-12T05:34:52.131678Z"
    }
   },
   "outputs": [
    {
     "data": {
      "text/html": [
       "<div>\n",
       "<style scoped>\n",
       "    .dataframe tbody tr th:only-of-type {\n",
       "        vertical-align: middle;\n",
       "    }\n",
       "\n",
       "    .dataframe tbody tr th {\n",
       "        vertical-align: top;\n",
       "    }\n",
       "\n",
       "    .dataframe thead th {\n",
       "        text-align: right;\n",
       "    }\n",
       "</style>\n",
       "<table border=\"1\" class=\"dataframe\">\n",
       "  <thead>\n",
       "    <tr style=\"text-align: right;\">\n",
       "      <th></th>\n",
       "      <th>Recency</th>\n",
       "      <th>Frequency</th>\n",
       "      <th>MonetaryValue</th>\n",
       "      <th>F</th>\n",
       "      <th>M</th>\n",
       "      <th>RFM_Score</th>\n",
       "    </tr>\n",
       "  </thead>\n",
       "  <tbody>\n",
       "    <tr>\n",
       "      <th>count</th>\n",
       "      <td>4301.000000</td>\n",
       "      <td>4301.000000</td>\n",
       "      <td>4.301000e+03</td>\n",
       "      <td>4301.000000</td>\n",
       "      <td>4301.000000</td>\n",
       "      <td>4301.000000</td>\n",
       "    </tr>\n",
       "    <tr>\n",
       "      <th>mean</th>\n",
       "      <td>76.174843</td>\n",
       "      <td>3.475006</td>\n",
       "      <td>4.675750e+05</td>\n",
       "      <td>1.001860</td>\n",
       "      <td>2.499651</td>\n",
       "      <td>6.020693</td>\n",
       "    </tr>\n",
       "    <tr>\n",
       "      <th>std</th>\n",
       "      <td>51.593718</td>\n",
       "      <td>19.358458</td>\n",
       "      <td>2.917088e+06</td>\n",
       "      <td>0.060971</td>\n",
       "      <td>1.118268</td>\n",
       "      <td>1.740299</td>\n",
       "    </tr>\n",
       "    <tr>\n",
       "      <th>min</th>\n",
       "      <td>1.000000</td>\n",
       "      <td>1.000000</td>\n",
       "      <td>0.000000e+00</td>\n",
       "      <td>1.000000</td>\n",
       "      <td>1.000000</td>\n",
       "      <td>3.000000</td>\n",
       "    </tr>\n",
       "    <tr>\n",
       "      <th>25%</th>\n",
       "      <td>30.000000</td>\n",
       "      <td>1.000000</td>\n",
       "      <td>6.375000e+03</td>\n",
       "      <td>1.000000</td>\n",
       "      <td>1.000000</td>\n",
       "      <td>5.000000</td>\n",
       "    </tr>\n",
       "    <tr>\n",
       "      <th>50%</th>\n",
       "      <td>73.000000</td>\n",
       "      <td>1.000000</td>\n",
       "      <td>2.926556e+04</td>\n",
       "      <td>1.000000</td>\n",
       "      <td>2.000000</td>\n",
       "      <td>6.000000</td>\n",
       "    </tr>\n",
       "    <tr>\n",
       "      <th>75%</th>\n",
       "      <td>117.000000</td>\n",
       "      <td>2.000000</td>\n",
       "      <td>1.564050e+05</td>\n",
       "      <td>1.000000</td>\n",
       "      <td>3.000000</td>\n",
       "      <td>7.000000</td>\n",
       "    </tr>\n",
       "    <tr>\n",
       "      <th>max</th>\n",
       "      <td>179.000000</td>\n",
       "      <td>860.000000</td>\n",
       "      <td>8.527498e+07</td>\n",
       "      <td>4.000000</td>\n",
       "      <td>4.000000</td>\n",
       "      <td>12.000000</td>\n",
       "    </tr>\n",
       "  </tbody>\n",
       "</table>\n",
       "</div>"
      ],
      "text/plain": [
       "           Recency    Frequency  MonetaryValue            F            M  \\\n",
       "count  4301.000000  4301.000000   4.301000e+03  4301.000000  4301.000000   \n",
       "mean     76.174843     3.475006   4.675750e+05     1.001860     2.499651   \n",
       "std      51.593718    19.358458   2.917088e+06     0.060971     1.118268   \n",
       "min       1.000000     1.000000   0.000000e+00     1.000000     1.000000   \n",
       "25%      30.000000     1.000000   6.375000e+03     1.000000     1.000000   \n",
       "50%      73.000000     1.000000   2.926556e+04     1.000000     2.000000   \n",
       "75%     117.000000     2.000000   1.564050e+05     1.000000     3.000000   \n",
       "max     179.000000   860.000000   8.527498e+07     4.000000     4.000000   \n",
       "\n",
       "         RFM_Score  \n",
       "count  4301.000000  \n",
       "mean      6.020693  \n",
       "std       1.740299  \n",
       "min       3.000000  \n",
       "25%       5.000000  \n",
       "50%       6.000000  \n",
       "75%       7.000000  \n",
       "max      12.000000  "
      ]
     },
     "execution_count": 33,
     "metadata": {},
     "output_type": "execute_result"
    }
   ],
   "source": [
    "datamart.describe()"
   ]
  },
  {
   "cell_type": "markdown",
   "metadata": {
    "ExecuteTime": {
     "end_time": "2021-03-11T19:53:39.458603Z",
     "start_time": "2021-03-11T19:53:39.443592Z"
    }
   },
   "source": [
    "# RFM VISUALIZATION"
   ]
  },
  {
   "cell_type": "code",
   "execution_count": 34,
   "metadata": {
    "ExecuteTime": {
     "end_time": "2021-03-12T05:34:52.459542Z",
     "start_time": "2021-03-12T05:34:52.182369Z"
    }
   },
   "outputs": [
    {
     "name": "stderr",
     "output_type": "stream",
     "text": [
      "C:\\Users\\Gurgen\\anaconda3\\lib\\site-packages\\seaborn\\distributions.py:2551: FutureWarning: `distplot` is a deprecated function and will be removed in a future version. Please adapt your code to use either `displot` (a figure-level function with similar flexibility) or `histplot` (an axes-level function for histograms).\n",
      "  warnings.warn(msg, FutureWarning)\n"
     ]
    },
    {
     "data": {
      "text/plain": [
       "Text(0.5, 0, 'Recency')"
      ]
     },
     "execution_count": 34,
     "metadata": {},
     "output_type": "execute_result"
    },
    {
     "data": {
      "image/png": "[encoded data removed]",
      "text/plain": [
       "<Figure size 432x288 with 1 Axes>"
      ]
     },
     "metadata": {
      "needs_background": "light"
     },
     "output_type": "display_data"
    }
   ],
   "source": [
    "sns.distplot(datamart.Recency)\n",
    "plt.axvline(datamart.Recency.mean(), color='k',\n",
    "            linestyle='dashed', linewidth=1)\n",
    "plt.axvline(datamart.Recency.median(), color='r', linewidth=1)\n",
    "plt.title('Distribution of Recency')\n",
    "plt.xlabel(\"Recency\")"
   ]
  },
  {
   "cell_type": "code",
   "execution_count": 35,
   "metadata": {
    "ExecuteTime": {
     "end_time": "2021-03-12T05:34:52.812661Z",
     "start_time": "2021-03-12T05:34:52.461913Z"
    }
   },
   "outputs": [
    {
     "name": "stderr",
     "output_type": "stream",
     "text": [
      "C:\\Users\\Gurgen\\anaconda3\\lib\\site-packages\\seaborn\\distributions.py:2551: FutureWarning: `distplot` is a deprecated function and will be removed in a future version. Please adapt your code to use either `displot` (a figure-level function with similar flexibility) or `histplot` (an axes-level function for histograms).\n",
      "  warnings.warn(msg, FutureWarning)\n"
     ]
    },
    {
     "data": {
      "image/png": "[encoded data removed]",
      "text/plain": [
       "<Figure size 432x288 with 1 Axes>"
      ]
     },
     "metadata": {
      "needs_background": "light"
     },
     "output_type": "display_data"
    }
   ],
   "source": [
    "sns.distplot(np.log(datamart.Frequency))\n",
    "plt.axvline(np.log(datamart.Frequency).mean(),\n",
    "            color='k', linestyle='dashed', linewidth=1)\n",
    "plt.axvline(np.log(datamart.Frequency).median(), color='r', linewidth=1)\n",
    "plt.title('Distribution of Frequency')\n",
    "plt.xlabel(\"Frequency\")"
   ]
  },
  {
   "cell_type": "code",
   "execution_count": 36,
   "metadata": {
    "ExecuteTime": {
     "end_time": "2021-03-12T05:34:53.221186Z",
     "start_time": "2021-03-12T05:34:52.817659Z"
    }
   },
   "outputs": [
    {
     "name": "stderr",
     "output_type": "stream",
     "text": [
      "C:\\Users\\Gurgen\\anaconda3\\lib\\site-packages\\seaborn\\distributions.py:2551: FutureWarning: `distplot` is a deprecated function and will be removed in a future version. Please adapt your code to use either `displot` (a figure-level function with similar flexibility) or `histplot` (an axes-level function for histograms).\n",
      "  warnings.warn(msg, FutureWarning)\n",
      "C:\\Users\\Gurgen\\anaconda3\\lib\\site-packages\\pandas\\core\\series.py:726: RuntimeWarning: divide by zero encountered in log\n",
      "  result = getattr(ufunc, method)(*inputs, **kwargs)\n"
     ]
    },
    {
     "data": {
      "image/png": "[encoded data removed]",
      "text/plain": [
       "<Figure size 432x288 with 1 Axes>"
      ]
     },
     "metadata": {
      "needs_background": "light"
     },
     "output_type": "display_data"
    }
   ],
   "source": [
    "sns.distplot(datamart.MonetaryValue)\n",
    "plt.axvline(np.log(datamart.MonetaryValue).mean(),\n",
    "            color='k', linestyle='dashed', linewidth=1)\n",
    "plt.axvline(np.log(datamart.MonetaryValue).median(), color='r', linewidth=1)\n",
    "plt.title('Distribution of Monetary Value')\n",
    "plt.xlabel(\"MonetaryValue\")"
   ]
  },
  {
   "cell_type": "code",
   "execution_count": 37,
   "metadata": {
    "ExecuteTime": {
     "end_time": "2021-03-12T05:34:53.236481Z",
     "start_time": "2021-03-12T05:34:53.223691Z"
    }
   },
   "outputs": [],
   "source": [
    "datamart.reset_index(level=0, inplace=True)"
   ]
  },
  {
   "cell_type": "code",
   "execution_count": 38,
   "metadata": {
    "ExecuteTime": {
     "end_time": "2021-03-12T05:34:53.260804Z",
     "start_time": "2021-03-12T05:34:53.239078Z"
    }
   },
   "outputs": [],
   "source": [
    "results = datamart.groupby('RFM_Segment', as_index=False).VENDOR_NAME.count(\n",
    ").sort_values('VENDOR_NAME', ascending=False)\n",
    "tops = results.head(10)"
   ]
  },
  {
   "cell_type": "code",
   "execution_count": 39,
   "metadata": {
    "ExecuteTime": {
     "end_time": "2021-03-12T05:34:53.596052Z",
     "start_time": "2021-03-12T05:34:53.263781Z"
    }
   },
   "outputs": [
    {
     "name": "stderr",
     "output_type": "stream",
     "text": [
      "C:\\Users\\Gurgen\\anaconda3\\lib\\site-packages\\seaborn\\_decorators.py:36: FutureWarning: Pass the following variables as keyword args: x, y. From version 0.12, the only valid positional argument will be `data`, and passing other arguments without an explicit keyword will result in an error or misinterpretation.\n",
      "  warnings.warn(\n"
     ]
    },
    {
     "data": {
      "image/png": "[encoded data removed]",
      "text/plain": [
       "<Figure size 432x288 with 1 Axes>"
      ]
     },
     "metadata": {
      "needs_background": "light"
     },
     "output_type": "display_data"
    }
   ],
   "source": [
    "sns.barplot(tops.RFM_Segment, tops.VENDOR_NAME)\n",
    "plt.title('Top 10 largest segments')"
   ]
  },
  {
   "cell_type": "markdown",
   "metadata": {},
   "source": [
    "### Marianna Ghazaryan, Shushan Hovakimyan, Seyran Minasyan, Gurgen Hovakimyan"
   ]
  }
 ],
 "metadata": {
  "hide_input": false,
  "kernelspec": {
   "display_name": "Python 3",
   "language": "python",
   "name": "python3"
  },
  "language_info": {
   "codemirror_mode": {
    "name": "ipython",
    "version": 3
   },
   "file_extension": ".py",
   "mimetype": "text/x-python",
   "name": "python",
   "nbconvert_exporter": "python",
   "pygments_lexer": "ipython3",
   "version": "3.8.5"
  },
  "toc": {
   "base_numbering": 1,
   "nav_menu": {},
   "number_sections": false,
   "sideBar": true,
   "skip_h1_title": false,
   "title_cell": "Table of Contents",
   "title_sidebar": "Contents",
   "toc_cell": false,
   "toc_position": {},
   "toc_section_display": true,
   "toc_window_display": false
  },
  "varInspector": {
   "cols": {
    "lenName": 16,
    "lenType": 16,
    "lenVar": 40
   },
   "kernels_config": {
    "python": {
     "delete_cmd_postfix": "",
     "delete_cmd_prefix": "del ",
     "library": "var_list.py",
     "varRefreshCmd": "print(var_dic_list())"
    },
    "r": {
     "delete_cmd_postfix": ") ",
     "delete_cmd_prefix": "rm(",
     "library": "var_list.r",
     "varRefreshCmd": "cat(var_dic_list()) "
    }
   },
   "types_to_exclude": [
    "module",
    "function",
    "builtin_function_or_method",
    "instance",
    "_Feature"
   ],
   "window_display": false
  }
 },
 "nbformat": 4,
 "nbformat_minor": 2
}
